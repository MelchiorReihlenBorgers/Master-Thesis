{
  "nbformat": 4,
  "nbformat_minor": 0,
  "metadata": {
    "colab": {
      "name": "BoundaryBoxEstimation.ipynb",
      "provenance": [],
      "collapsed_sections": [],
      "toc_visible": true,
      "mount_file_id": "1ICxU1QGlj_xrL7En_PwPcbHjD3NWW5Y6",
      "authorship_tag": "ABX9TyOxiHXv52YbTXYATb3qYDjf",
      "include_colab_link": true
    },
    "kernelspec": {
      "name": "python3",
      "display_name": "Python 3"
    }
  },
  "cells": [
    {
      "cell_type": "markdown",
      "metadata": {
        "id": "view-in-github",
        "colab_type": "text"
      },
      "source": [
        "<a href=\"https://colab.research.google.com/github/MelchiorReihlenBorgers/EstimatingTheWeightOfCows/blob/master/BoundaryBoxEstimation.ipynb\" target=\"_parent\"><img src=\"https://colab.research.google.com/assets/colab-badge.svg\" alt=\"Open In Colab\"/></a>"
      ]
    },
    {
      "cell_type": "markdown",
      "metadata": {
        "id": "ZDmesgbRl9pC",
        "colab_type": "text"
      },
      "source": [
        "# Import Libraries"
      ]
    },
    {
      "cell_type": "code",
      "metadata": {
        "id": "flRAeUADlx8i",
        "colab_type": "code",
        "colab": {}
      },
      "source": [
        "import os\n",
        "import pandas as pd\n",
        "import numpy as np\n",
        "\n",
        "from sklearn.model_selection import train_test_split\n",
        "\n",
        "from sklearn.metrics import accuracy_score\n",
        "from sklearn.metrics import average_precision_score\n",
        "from sklearn.metrics import precision_recall_curve\n",
        "\n",
        "from sklearn.naive_bayes import GaussianNB\n",
        "from sklearn.neighbors import KNeighborsClassifier\n",
        "from sklearn.svm import SVC\n",
        "\n",
        "from sklearn.preprocessing import scale\n",
        "from sklearn.metrics import plot_precision_recall_curve\n",
        "\n",
        "import matplotlib.pyplot as plt"
      ],
      "execution_count": null,
      "outputs": []
    },
    {
      "cell_type": "markdown",
      "metadata": {
        "id": "Z8iN4JOFmAa8",
        "colab_type": "text"
      },
      "source": [
        "# Load Data"
      ]
    },
    {
      "cell_type": "code",
      "metadata": {
        "id": "r25Co5A_l8ts",
        "colab_type": "code",
        "colab": {
          "base_uri": "https://localhost:8080/",
          "height": 206
        },
        "outputId": "6acdfc2d-b1e4-4d74-a7c2-686c63be6058"
      },
      "source": [
        "os.chdir(\"/content/drive/My Drive/Master/Thesis\")\n",
        "\n",
        "classification_data = pd.read_csv(\"classifications_data.csv\", header = 0)\n",
        "\n",
        "classification_data.head()"
      ],
      "execution_count": null,
      "outputs": [
        {
          "output_type": "execute_result",
          "data": {
            "text/html": [
              "<div>\n",
              "<style scoped>\n",
              "    .dataframe tbody tr th:only-of-type {\n",
              "        vertical-align: middle;\n",
              "    }\n",
              "\n",
              "    .dataframe tbody tr th {\n",
              "        vertical-align: top;\n",
              "    }\n",
              "\n",
              "    .dataframe thead th {\n",
              "        text-align: right;\n",
              "    }\n",
              "</style>\n",
              "<table border=\"1\" class=\"dataframe\">\n",
              "  <thead>\n",
              "    <tr style=\"text-align: right;\">\n",
              "      <th></th>\n",
              "      <th>Unnamed: 0</th>\n",
              "      <th>Mean_Depth</th>\n",
              "      <th>Mean_Saliency</th>\n",
              "      <th>Color_Contrast</th>\n",
              "      <th>Edge_Density</th>\n",
              "      <th>SD_Depth</th>\n",
              "      <th>SD_Saliency</th>\n",
              "      <th>Depth_Contrast</th>\n",
              "      <th>Binary_Saliency</th>\n",
              "      <th>label</th>\n",
              "    </tr>\n",
              "  </thead>\n",
              "  <tbody>\n",
              "    <tr>\n",
              "      <th>0</th>\n",
              "      <td>0</td>\n",
              "      <td>0.789158</td>\n",
              "      <td>0.173722</td>\n",
              "      <td>575036.848217</td>\n",
              "      <td>17.852036</td>\n",
              "      <td>0.023635</td>\n",
              "      <td>0.155314</td>\n",
              "      <td>66584442</td>\n",
              "      <td>0.401331</td>\n",
              "      <td>1</td>\n",
              "    </tr>\n",
              "    <tr>\n",
              "      <th>1</th>\n",
              "      <td>1</td>\n",
              "      <td>0.786952</td>\n",
              "      <td>0.174417</td>\n",
              "      <td>623808.873008</td>\n",
              "      <td>13.995223</td>\n",
              "      <td>0.023951</td>\n",
              "      <td>0.162438</td>\n",
              "      <td>84934794</td>\n",
              "      <td>0.401107</td>\n",
              "      <td>1</td>\n",
              "    </tr>\n",
              "    <tr>\n",
              "      <th>2</th>\n",
              "      <td>2</td>\n",
              "      <td>0.792735</td>\n",
              "      <td>0.246356</td>\n",
              "      <td>238612.785629</td>\n",
              "      <td>30.235564</td>\n",
              "      <td>0.023659</td>\n",
              "      <td>0.175280</td>\n",
              "      <td>103448285</td>\n",
              "      <td>0.483905</td>\n",
              "      <td>1</td>\n",
              "    </tr>\n",
              "    <tr>\n",
              "      <th>3</th>\n",
              "      <td>3</td>\n",
              "      <td>0.789762</td>\n",
              "      <td>0.209529</td>\n",
              "      <td>484801.779998</td>\n",
              "      <td>20.077211</td>\n",
              "      <td>0.024169</td>\n",
              "      <td>0.173342</td>\n",
              "      <td>89789188</td>\n",
              "      <td>0.437259</td>\n",
              "      <td>1</td>\n",
              "    </tr>\n",
              "    <tr>\n",
              "      <th>4</th>\n",
              "      <td>4</td>\n",
              "      <td>0.786636</td>\n",
              "      <td>0.158779</td>\n",
              "      <td>827020.097792</td>\n",
              "      <td>15.696170</td>\n",
              "      <td>0.025097</td>\n",
              "      <td>0.152270</td>\n",
              "      <td>114788330</td>\n",
              "      <td>0.387066</td>\n",
              "      <td>1</td>\n",
              "    </tr>\n",
              "  </tbody>\n",
              "</table>\n",
              "</div>"
            ],
            "text/plain": [
              "   Unnamed: 0  Mean_Depth  ...  Binary_Saliency  label\n",
              "0           0    0.789158  ...         0.401331      1\n",
              "1           1    0.786952  ...         0.401107      1\n",
              "2           2    0.792735  ...         0.483905      1\n",
              "3           3    0.789762  ...         0.437259      1\n",
              "4           4    0.786636  ...         0.387066      1\n",
              "\n",
              "[5 rows x 10 columns]"
            ]
          },
          "metadata": {
            "tags": []
          },
          "execution_count": 16
        }
      ]
    },
    {
      "cell_type": "code",
      "metadata": {
        "id": "M5kuDLOynqXu",
        "colab_type": "code",
        "colab": {}
      },
      "source": [
        "col_names = [\"Mean_Depth\", \"Mean_Saliency\", \"Color_Contrast\", \"Edge_Density\", \"SD_Depth\", \"SD_Saliency\",\n",
        "             \"Depth_Contrast\", \"Binary_Saliency\"]\n",
        "\n",
        "X = classification_data.loc[:,col_names]"
      ],
      "execution_count": null,
      "outputs": []
    },
    {
      "cell_type": "code",
      "metadata": {
        "id": "BM52ojBanDDN",
        "colab_type": "code",
        "colab": {}
      },
      "source": [
        "X.loc[:,[\"Color_Contrast\", \"Depth_Contrast\"]] = X.loc[:,[\"Color_Contrast\", \"Depth_Contrast\"]]/1000\n",
        "X = scale(X)\n",
        "\n",
        "y = classification_data.loc[:,\"label\"]"
      ],
      "execution_count": null,
      "outputs": []
    },
    {
      "cell_type": "markdown",
      "metadata": {
        "id": "a-BDUabzn5cF",
        "colab_type": "text"
      },
      "source": [
        "# Train Test Split"
      ]
    },
    {
      "cell_type": "markdown",
      "metadata": {
        "id": "MEoXZ5rOoG8F",
        "colab_type": "text"
      },
      "source": [
        "With Depth"
      ]
    },
    {
      "cell_type": "code",
      "metadata": {
        "id": "gpn-5LPbntkN",
        "colab_type": "code",
        "colab": {}
      },
      "source": [
        "X_train, X_test, y_train, y_test = train_test_split(X, y, test_size= 0.2, random_state= 0)"
      ],
      "execution_count": null,
      "outputs": []
    },
    {
      "cell_type": "markdown",
      "metadata": {
        "id": "Ozj0pHYxoFLD",
        "colab_type": "text"
      },
      "source": [
        "No Depth"
      ]
    },
    {
      "cell_type": "code",
      "metadata": {
        "id": "Yb-6DhumoEeM",
        "colab_type": "code",
        "colab": {}
      },
      "source": [
        "X_train_ND, X_test_ND = np.delete(arr = X_train, obj = [0,4,6], axis = 1), np.delete(arr = X_test, obj = [0,4,6], axis = 1)"
      ],
      "execution_count": null,
      "outputs": []
    },
    {
      "cell_type": "markdown",
      "metadata": {
        "id": "VGmd4Z1EoMd_",
        "colab_type": "text"
      },
      "source": [
        "# Define Classifiers"
      ]
    },
    {
      "cell_type": "code",
      "metadata": {
        "id": "lI0tje16oL-E",
        "colab_type": "code",
        "colab": {}
      },
      "source": [
        "nb = GaussianNB()\n",
        "knn = KNeighborsClassifier()\n",
        "svc = SVC(probability= True)"
      ],
      "execution_count": null,
      "outputs": []
    },
    {
      "cell_type": "code",
      "metadata": {
        "id": "-yVpes1poIUe",
        "colab_type": "code",
        "colab": {}
      },
      "source": [
        "methods = {\"Naive Bayes\":nb,\n",
        "           \"KNN\": knn,\n",
        "           \"SVM\": svc}"
      ],
      "execution_count": null,
      "outputs": []
    },
    {
      "cell_type": "markdown",
      "metadata": {
        "id": "cZnfRB3roe_X",
        "colab_type": "text"
      },
      "source": [
        "# Make Predictions"
      ]
    },
    {
      "cell_type": "code",
      "metadata": {
        "id": "DWJUQW47oYE4",
        "colab_type": "code",
        "colab": {}
      },
      "source": [
        "fit = nb.fit(X_train, y_train)\n",
        "\n",
        "predict_nb = fit.predict_proba(X_test)\n",
        "\n",
        "precision_nb, recall_nb, thresholds_nb = precision_recall_curve(y_true = y_test, probas_pred = predict_nb[:,0])"
      ],
      "execution_count": null,
      "outputs": []
    },
    {
      "cell_type": "code",
      "metadata": {
        "id": "laZPxJPerZ89",
        "colab_type": "code",
        "colab": {}
      },
      "source": [
        "fit = knn.fit(X_train, y_train)\n",
        "\n",
        "predict_knn = fit.predict_proba(X_test)\n",
        "\n",
        "precision_knn, recall_knn, thresholds_knn = precision_recall_curve(y_true = y_test, probas_pred = predict_knn[:,0])"
      ],
      "execution_count": null,
      "outputs": []
    },
    {
      "cell_type": "code",
      "metadata": {
        "id": "DHwTLASMtJ5c",
        "colab_type": "code",
        "colab": {
          "base_uri": "https://localhost:8080/",
          "height": 248
        },
        "outputId": "d05e3195-3646-490c-8f09-7924cd8be077"
      },
      "source": [
        "fit = svc.fit(X_train, y_train)\n",
        "\n",
        "predict_svm = fit.predict_proba(X_test)\n",
        "\n",
        "precision_svm, recall_svm, thresholds_svm = precision_recall_curve(y_true = y_test, probas_pred = predict_svm[:,0])"
      ],
      "execution_count": 1,
      "outputs": [
        {
          "output_type": "error",
          "ename": "NameError",
          "evalue": "ignored",
          "traceback": [
            "\u001b[0;31m---------------------------------------------------------------------------\u001b[0m",
            "\u001b[0;31mNameError\u001b[0m                                 Traceback (most recent call last)",
            "\u001b[0;32m<ipython-input-1-1dcf6019debc>\u001b[0m in \u001b[0;36m<module>\u001b[0;34m()\u001b[0m\n\u001b[0;32m----> 1\u001b[0;31m \u001b[0mfit\u001b[0m \u001b[0;34m=\u001b[0m \u001b[0msvc\u001b[0m\u001b[0;34m.\u001b[0m\u001b[0mfit\u001b[0m\u001b[0;34m(\u001b[0m\u001b[0mX_train\u001b[0m\u001b[0;34m,\u001b[0m \u001b[0my_train\u001b[0m\u001b[0;34m)\u001b[0m\u001b[0;34m\u001b[0m\u001b[0;34m\u001b[0m\u001b[0m\n\u001b[0m\u001b[1;32m      2\u001b[0m \u001b[0;34m\u001b[0m\u001b[0m\n\u001b[1;32m      3\u001b[0m \u001b[0mpredict_svm\u001b[0m \u001b[0;34m=\u001b[0m \u001b[0mfit\u001b[0m\u001b[0;34m.\u001b[0m\u001b[0mpredict_proba\u001b[0m\u001b[0;34m(\u001b[0m\u001b[0mX_test\u001b[0m\u001b[0;34m)\u001b[0m\u001b[0;34m\u001b[0m\u001b[0;34m\u001b[0m\u001b[0m\n\u001b[1;32m      4\u001b[0m \u001b[0;34m\u001b[0m\u001b[0m\n\u001b[1;32m      5\u001b[0m \u001b[0mprecision_svm\u001b[0m\u001b[0;34m,\u001b[0m \u001b[0mrecall_svm\u001b[0m\u001b[0;34m,\u001b[0m \u001b[0mthresholds_svm\u001b[0m \u001b[0;34m=\u001b[0m \u001b[0mprecision_recall_curve\u001b[0m\u001b[0;34m(\u001b[0m\u001b[0my_true\u001b[0m \u001b[0;34m=\u001b[0m \u001b[0my_test\u001b[0m\u001b[0;34m,\u001b[0m \u001b[0mprobas_pred\u001b[0m \u001b[0;34m=\u001b[0m \u001b[0mpredict_svm\u001b[0m\u001b[0;34m[\u001b[0m\u001b[0;34m:\u001b[0m\u001b[0;34m,\u001b[0m\u001b[0;36m0\u001b[0m\u001b[0;34m]\u001b[0m\u001b[0;34m)\u001b[0m\u001b[0;34m\u001b[0m\u001b[0;34m\u001b[0m\u001b[0m\n",
            "\u001b[0;31mNameError\u001b[0m: name 'svc' is not defined"
          ]
        }
      ]
    },
    {
      "cell_type": "markdown",
      "metadata": {
        "id": "rifDFVtGXjKA",
        "colab_type": "text"
      },
      "source": [
        "# Save mAP "
      ]
    },
    {
      "cell_type": "markdown",
      "metadata": {
        "id": "WZ_D5j8rYA6W",
        "colab_type": "text"
      },
      "source": [
        "Including Depth"
      ]
    },
    {
      "cell_type": "code",
      "metadata": {
        "id": "PCwWbDNpX4Of",
        "colab_type": "code",
        "colab": {}
      },
      "source": [
        "precisions = []\n",
        "\n",
        "\n",
        "for method_name, method in methods.items():\n",
        "\n",
        "    # Fit model\n",
        "    fit = method.fit(X_train, y_train)\n",
        "\n",
        "    # Predict in-sample\n",
        "    prediction_in_sample = fit.predict(X_train)\n",
        "    maP_in_sample = average_precision_score(y_true = y_train, y_score = prediction_in_sample)\n",
        "\n",
        "    # Predict out-of-sample\n",
        "    prediction_out_of_sample = fit.predict(X_test)\n",
        "    maP_out_of_sample = average_precision_score(y_true=y_test, y_score=prediction_out_of_sample)\n",
        "\n",
        "    precision = (maP_in_sample, maP_out_of_sample)\n",
        "\n",
        "    precisions.append(precision)\n",
        "\n",
        "precisions = pd.DataFrame(precisions, columns = [\"Train\", \"Test\"], index = [method for method, x in methods.items()])"
      ],
      "execution_count": null,
      "outputs": []
    },
    {
      "cell_type": "markdown",
      "metadata": {
        "id": "sjFAqxlqYCiM",
        "colab_type": "text"
      },
      "source": [
        "Excluding Depth"
      ]
    },
    {
      "cell_type": "code",
      "metadata": {
        "id": "WXr0jx9vXlR0",
        "colab_type": "code",
        "colab": {}
      },
      "source": [
        "precisions_ND = []\n",
        "\n",
        "for method_name, method in methods.items():\n",
        "    # Fit model\n",
        "    fit = method.fit(X_train_ND, y_train)\n",
        "\n",
        "    # Predict in-sample\n",
        "    prediction_in_sample_ND = fit.predict(X_train_ND)\n",
        "    maP_in_sample_ND = average_precision_score(y_true = y_train, y_score = prediction_in_sample_ND)\n",
        "\n",
        "    # Predict out-of-sample\n",
        "    prediction_out_of_sample_ND = fit.predict(X_test_ND)\n",
        "    maP_out_of_sample_ND = average_precision_score(y_true=y_test, y_score=prediction_out_of_sample_ND)\n",
        "\n",
        "    accuracy = (accuracy_in_sample_ND, accuracy_out_of_sample_ND)\n",
        "    precision = (maP_in_sample_ND, maP_out_of_sample_ND)\n",
        "    \n",
        "    precisions_ND.append(precision)\n",
        "\n",
        "accuracies_ND = pd.DataFrame(accuracies_ND, columns = [\"Train\", \"Test\"], index = [method for method, x in methods.items()])"
      ],
      "execution_count": null,
      "outputs": []
    }
  ]
}