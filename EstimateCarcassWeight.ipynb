{
  "nbformat": 4,
  "nbformat_minor": 0,
  "metadata": {
    "colab": {
      "name": "EstimateCarcassWeight",
      "provenance": [],
      "collapsed_sections": [
        "jl9uYZnXjnFL",
        "e080GdJaT7Cd",
        "XzW4LzCZNhVi",
        "OAI05UZ1aQpK",
        "Bk_aq4BaqZON",
        "MRg07zxqn6rm",
        "-Duiyr92n-4S",
        "SIvRauxdp6VA",
        "TyekdYeGt_Uw",
        "9sNEkJodGtXL"
      ],
      "toc_visible": true,
      "mount_file_id": "1k_5dVVTfoL48Pekvyi9ClrCN9dgaLsab",
      "authorship_tag": "ABX9TyPhhHo8jaUY1O2hLl2WCkMG",
      "include_colab_link": true
    },
    "kernelspec": {
      "name": "python3",
      "display_name": "Python 3"
    }
  },
  "cells": [
    {
      "cell_type": "markdown",
      "metadata": {
        "id": "view-in-github",
        "colab_type": "text"
      },
      "source": [
        "<a href=\"https://colab.research.google.com/github/MelchiorReihlenBorgers/EstimatingTheWeightOfCows/blob/master/EstimateCarcassWeight.ipynb\" target=\"_parent\"><img src=\"https://colab.research.google.com/assets/colab-badge.svg\" alt=\"Open In Colab\"/></a>"
      ]
    },
    {
      "cell_type": "markdown",
      "metadata": {
        "id": "jwzVf0LYz8Ci",
        "colab_type": "text"
      },
      "source": [
        "# Carcass Weight Estimation"
      ]
    },
    {
      "cell_type": "markdown",
      "metadata": {
        "id": "jl9uYZnXjnFL",
        "colab_type": "text"
      },
      "source": [
        "## Libraries"
      ]
    },
    {
      "cell_type": "code",
      "metadata": {
        "id": "ZZYVrlTPwXhR",
        "colab_type": "code",
        "colab": {}
      },
      "source": [
        "import os\n",
        "import numpy as np\n",
        "\n",
        "import matplotlib.pyplot as plt\n",
        "%matplotlib inline\n",
        "plt.style.use('seaborn-white')\n",
        "\n",
        "import cv2"
      ],
      "execution_count": null,
      "outputs": []
    },
    {
      "cell_type": "code",
      "metadata": {
        "id": "hNN8LginA56C",
        "colab_type": "code",
        "colab": {}
      },
      "source": [
        "import pandas as pd\n",
        "\n",
        "from sklearn.model_selection import train_test_split\n",
        "from sklearn.svm import SVR\n",
        "from sklearn.preprocessing import scale\n",
        "from sklearn.metrics import mean_absolute_error\n",
        "from sklearn.model_selection import ShuffleSplit\n",
        "from sklearn.model_selection import learning_curve\n",
        "from sklearn.preprocessing import StandardScaler\n",
        "from sklearn.pipeline import make_pipeline\n",
        "from sklearn.model_selection import cross_validate\n",
        "from sklearn.linear_model import LinearRegression"
      ],
      "execution_count": null,
      "outputs": []
    },
    {
      "cell_type": "code",
      "metadata": {
        "id": "Ei-09b4kwjFT",
        "colab_type": "code",
        "colab": {}
      },
      "source": [
        "path = \"/content/drive/My Drive/Master/Thesis\"\n",
        "\n",
        "os.chdir(path)"
      ],
      "execution_count": null,
      "outputs": []
    },
    {
      "cell_type": "markdown",
      "metadata": {
        "id": "s9SvWq4P3KuV",
        "colab_type": "text"
      },
      "source": [
        "Get all paths to directories + subdirectories"
      ]
    },
    {
      "cell_type": "code",
      "metadata": {
        "id": "IE-Tx3ku3TVr",
        "colab_type": "code",
        "colab": {}
      },
      "source": [
        "def getListOfFiles(dirName):\n",
        "    # create a list of file and sub directories \n",
        "    # names in the given directory \n",
        "    listOfFile = os.listdir(dirName)\n",
        "    allFiles = list()\n",
        "    # Iterate over all the entries\n",
        "    for entry in listOfFile:\n",
        "        # Create full path\n",
        "        fullPath = os.path.join(dirName, entry)\n",
        "        # If entry is a directory then get the list of files in this directory \n",
        "        if os.path.isdir(fullPath):\n",
        "            allFiles = allFiles + getListOfFiles(fullPath)\n",
        "        else:\n",
        "            allFiles.append(fullPath)\n",
        "                \n",
        "    return allFiles"
      ],
      "execution_count": null,
      "outputs": []
    },
    {
      "cell_type": "markdown",
      "metadata": {
        "id": "0FZNfgk2oFA7",
        "colab_type": "text"
      },
      "source": [
        "Calculate the z-score"
      ]
    },
    {
      "cell_type": "code",
      "metadata": {
        "id": "2iU9zV3koH2k",
        "colab_type": "code",
        "colab": {}
      },
      "source": [
        "def calculate_z_score(keypoint_depth_value, p1, p2):\n",
        "\n",
        "  z_score = abs(keypoint_depth_value[p1] - keypoint_depth_value[p2])\n",
        "\n",
        "  return z_score"
      ],
      "execution_count": null,
      "outputs": []
    },
    {
      "cell_type": "markdown",
      "metadata": {
        "id": "wqhjhXyn-aQX",
        "colab_type": "text"
      },
      "source": [
        "Calculate the XY needed for distance calculation"
      ]
    },
    {
      "cell_type": "code",
      "metadata": {
        "id": "f9GWjTiUuFDx",
        "colab_type": "code",
        "colab": {}
      },
      "source": [
        "def calculations(AspectRatio, radian, keypoint_depth_value, estimated_keypoints, p1, p2):\n",
        "\n",
        "        depth_value_p1 = keypoint_depth_value[p1]\n",
        "        depth_value_p2 = keypoint_depth_value[p2]\n",
        "\n",
        "        x_p1 = estimated_keypoints[p1, 1]\n",
        "        y_p1 = estimated_keypoints[p1, 0]\n",
        "        x_p2 = estimated_keypoints[p2, 1]\n",
        "        y_p2 = estimated_keypoints[p2, 0]\n",
        "\n",
        "        oneFrameWidth = np.tan(radian) * depth_value_p1\n",
        "        oneFrameHeight = oneFrameWidth * AspectRatio\n",
        "\n",
        "        twoFrameWidth = np.tan(radian) * depth_value_p2\n",
        "        twoFrameHeight = twoFrameWidth * AspectRatio\n",
        "\n",
        "        onePercentX = x_p1 /4032\n",
        "        onePercentY = y_p1 /3024\n",
        "\n",
        "        twoPercentX = x_p2 /4032\n",
        "        twoPercentY = y_p2 /3024\n",
        "\n",
        "        oneDistanceFromCenterX = -(oneFrameWidth/2) + (oneFrameWidth * onePercentX)\n",
        "        oneDistanceFromCenterY = -(oneFrameHeight/2) + (oneFrameHeight * onePercentY)\n",
        "        twoDistanceFromCenterX = -(twoFrameWidth/2) + (twoFrameWidth * twoPercentX)\n",
        "        twoDistanceFromCenterY = -(twoFrameHeight/2) + (twoFrameHeight * twoPercentY)\n",
        "\n",
        "        x = max(np.maximum(oneDistanceFromCenterX, twoDistanceFromCenterX)) - \\\n",
        "            min(np.minimum(oneDistanceFromCenterX, twoDistanceFromCenterX))\n",
        "        y = max(np.maximum(oneDistanceFromCenterY, twoDistanceFromCenterY)) - \\\n",
        "            min(np.minimum(oneDistanceFromCenterY, twoDistanceFromCenterY))\n",
        "\n",
        "        return (x, y)"
      ],
      "execution_count": null,
      "outputs": []
    },
    {
      "cell_type": "markdown",
      "metadata": {
        "id": "lh8OafzZoTTl",
        "colab_type": "text"
      },
      "source": [
        "Function to calculate body measures"
      ]
    },
    {
      "cell_type": "code",
      "metadata": {
        "id": "IGK2gYB3oTnN",
        "colab_type": "code",
        "colab": {}
      },
      "source": [
        "def calculate_body_measure(xys, z_score):\n",
        "  x, y = xys\n",
        "  \n",
        "  body_measure = x**2 + y**2 + z_score**2\n",
        "\n",
        "  return body_measure"
      ],
      "execution_count": null,
      "outputs": []
    },
    {
      "cell_type": "markdown",
      "metadata": {
        "id": "IEDjqzOVhAEj",
        "colab_type": "text"
      },
      "source": [
        "## 1) Body Measure Calculation"
      ]
    },
    {
      "cell_type": "markdown",
      "metadata": {
        "id": "PbsB3wwJaIJ1",
        "colab_type": "text"
      },
      "source": [
        "### Load Images, Depths and Radians"
      ]
    },
    {
      "cell_type": "markdown",
      "metadata": {
        "id": "s7ygWZVOweFC",
        "colab_type": "text"
      },
      "source": [
        "**Load Estimated Keypoints**"
      ]
    },
    {
      "cell_type": "code",
      "metadata": {
        "id": "_1yjzcaHwdX_",
        "colab_type": "code",
        "colab": {}
      },
      "source": [
        "os.chdir(os.path.join(path, \"Heatmaps\"))"
      ],
      "execution_count": null,
      "outputs": []
    },
    {
      "cell_type": "code",
      "metadata": {
        "id": "4xF74l58ww7R",
        "colab_type": "code",
        "colab": {
          "base_uri": "https://localhost:8080/",
          "height": 35
        },
        "outputId": "48927226-ab93-4164-ec50-ba5af32143fa"
      },
      "source": [
        "estimated_keypoints = np.load(\"estimated_keypoints.npy\")\n",
        "\n",
        "print(\"The shape of the estimated keypoints is: {}\".format(np.shape(estimated_keypoints)))"
      ],
      "execution_count": null,
      "outputs": [
        {
          "output_type": "stream",
          "text": [
            "The shape of the estimated keypoints is: (576, 2)\n"
          ],
          "name": "stdout"
        }
      ]
    },
    {
      "cell_type": "code",
      "metadata": {
        "id": "mjff2pcxW8KP",
        "colab_type": "code",
        "colab": {
          "base_uri": "https://localhost:8080/",
          "height": 35
        },
        "outputId": "212b2154-3d95-4e28-cd68-0f460cc5e302"
      },
      "source": [
        "## Resize the keypoints as they are fitted on a 192 x 192 image\n",
        "adujst_width = 4032/192\n",
        "adjust_height = 3024/192\n",
        "\n",
        "print(\"Adjust the width and height by: {} and {}\".format(adujst_width, adjust_height))"
      ],
      "execution_count": null,
      "outputs": [
        {
          "output_type": "stream",
          "text": [
            "Adjust the width and height by: 21.0 and 15.75\n"
          ],
          "name": "stdout"
        }
      ]
    },
    {
      "cell_type": "code",
      "metadata": {
        "id": "dm9Q10s0XdNd",
        "colab_type": "code",
        "colab": {}
      },
      "source": [
        "estimated_keypoints[:,0] = estimated_keypoints[:,0]*adjust_height\n",
        "estimated_keypoints[:,1] = estimated_keypoints[:,1]*adujst_width"
      ],
      "execution_count": null,
      "outputs": []
    },
    {
      "cell_type": "code",
      "metadata": {
        "id": "QhAqFWRNxYXe",
        "colab_type": "code",
        "colab": {
          "base_uri": "https://localhost:8080/",
          "height": 35
        },
        "outputId": "79e2740b-f34b-4026-dab4-bd5541852dea"
      },
      "source": [
        "## Reshape so the data has shape: number of images x number of dimensions (xy coordinates, i.e. 2 dimensions) x number of keypoints\n",
        "estimated_keypoints = estimated_keypoints.reshape(72, 8, 2).swapaxes(1,2)\n",
        "\n",
        "print(\"The shape of the keypoints is: {}\".format(estimated_keypoints.shape))"
      ],
      "execution_count": null,
      "outputs": [
        {
          "output_type": "stream",
          "text": [
            "The shape of the keypoints is: (72, 2, 8)\n"
          ],
          "name": "stdout"
        }
      ]
    },
    {
      "cell_type": "markdown",
      "metadata": {
        "id": "a7Nt8tD5zYZx",
        "colab_type": "text"
      },
      "source": [
        "**Load the images, depths and radians**"
      ]
    },
    {
      "cell_type": "markdown",
      "metadata": {
        "id": "x0rSA9pr0BTK",
        "colab_type": "text"
      },
      "source": [
        " a) Images"
      ]
    },
    {
      "cell_type": "code",
      "metadata": {
        "id": "VP8w9B7eyHVG",
        "colab_type": "code",
        "colab": {
          "base_uri": "https://localhost:8080/",
          "height": 72
        },
        "outputId": "151eb416-d331-4fef-a449-27c96e88631d"
      },
      "source": [
        "# Create the image data set\n",
        "\n",
        "## Get the path to the images\n",
        "path = \"/content/drive/My Drive/Master/Thesis/images\"\n",
        "\n",
        "## Change the working directory\n",
        "os.chdir(path)\n",
        "\n",
        "## Get the list of all the files\n",
        "files = os.listdir(path)\n",
        "\n",
        "## Get the number of images\n",
        "n_images = len(files)\n",
        "print(\"{} images found in directory\".format(n_images))\n",
        "\n",
        "## Read in the images\n",
        "images = [plt.imread(file) for file in files]\n",
        "print(\"{} images loaded\".format(len(images)))\n",
        "\n",
        "images = np.array(images)\n",
        "print(\"Shape of the features: {}, i.e. number of images x height x width x color channel\".format(np.shape(images)))"
      ],
      "execution_count": null,
      "outputs": [
        {
          "output_type": "stream",
          "text": [
            "72 images found in directory\n",
            "72 images loaded\n",
            "Shape of the features: (72, 3024, 4032, 3), i.e. number of images x height x width x color channel\n"
          ],
          "name": "stdout"
        }
      ]
    },
    {
      "cell_type": "markdown",
      "metadata": {
        "id": "YXkdUu-S0owh",
        "colab_type": "text"
      },
      "source": [
        "Save the image names "
      ]
    },
    {
      "cell_type": "code",
      "metadata": {
        "id": "NzQjV_NkyUTT",
        "colab_type": "code",
        "colab": {
          "base_uri": "https://localhost:8080/",
          "height": 35
        },
        "outputId": "e92c70e7-21dd-4094-f1ab-95168cd3696f"
      },
      "source": [
        "image_names = [os.path.basename(file) for file in files]\n",
        "\n",
        "image_names_no_extension = [os.path.splitext(name)[0] for name in image_names]\n",
        "\n",
        "print(\"The first two names without extension: {}\".format(image_names_no_extension[:2]))"
      ],
      "execution_count": null,
      "outputs": [
        {
          "output_type": "stream",
          "text": [
            "The first two names without extension: ['585216074-0', '586290717-8']\n"
          ],
          "name": "stdout"
        }
      ]
    },
    {
      "cell_type": "markdown",
      "metadata": {
        "id": "qL6yWjfDkKdS",
        "colab_type": "text"
      },
      "source": [
        "Save Names of Good Images"
      ]
    },
    {
      "cell_type": "code",
      "metadata": {
        "id": "djVzGjgrkMil",
        "colab_type": "code",
        "colab": {
          "base_uri": "https://localhost:8080/",
          "height": 35
        },
        "outputId": "4fe2f575-6067-4eda-b177-461b77cdbfec"
      },
      "source": [
        "good_images = np.load(\"/content/drive/My Drive/Master/Thesis/good_images_names.npy\")\n",
        "\n",
        "good_images_no_extension = [os.path.splitext(name)[0] for name in good_images]\n",
        "\n",
        "good_images_no_extension[:5]"
      ],
      "execution_count": null,
      "outputs": [
        {
          "output_type": "execute_result",
          "data": {
            "text/plain": [
              "['586290925-7', '589454964-0', '589455079-7', '591158798-0', '591159136-9']"
            ]
          },
          "metadata": {
            "tags": []
          },
          "execution_count": 15
        }
      ]
    },
    {
      "cell_type": "markdown",
      "metadata": {
        "id": "j2r9W2rn09U6",
        "colab_type": "text"
      },
      "source": [
        "b) Depths"
      ]
    },
    {
      "cell_type": "code",
      "metadata": {
        "id": "dK6i4diFyUX6",
        "colab_type": "code",
        "colab": {
          "base_uri": "https://localhost:8080/",
          "height": 35
        },
        "outputId": "d00d947a-13ad-49d8-a98e-ddd5e5ca3dc9"
      },
      "source": [
        "## Corresponding depth files are called image_names_no_extension + str(\".csv\")\n",
        "depth_names = [name + str(\".csv\") for name in image_names_no_extension]\n",
        "\n",
        "print(\"The first two names of the depth maps are: {}\".format(depth_names[:2]))"
      ],
      "execution_count": null,
      "outputs": [
        {
          "output_type": "stream",
          "text": [
            "The first two names of the depth maps are: ['585216074-0.csv', '586290717-8.csv']\n"
          ],
          "name": "stdout"
        }
      ]
    },
    {
      "cell_type": "markdown",
      "metadata": {
        "id": "fhhcd4-9kkxv",
        "colab_type": "text"
      },
      "source": [
        "*Load the good depths*"
      ]
    },
    {
      "cell_type": "code",
      "metadata": {
        "id": "VZSUFcjgknZi",
        "colab_type": "code",
        "colab": {
          "base_uri": "https://localhost:8080/",
          "height": 35
        },
        "outputId": "d22f3276-52a6-4c69-f18b-099999111f98"
      },
      "source": [
        "## Corresponding depth files are called image_names_no_extension + str(\".csv\")\n",
        "depth_names_good_images = [name + str(\".csv\") for name in good_images_no_extension]\n",
        "\n",
        "print(\"The first two names of the depth maps are: {}\".format(depth_names_good_images[:2]))"
      ],
      "execution_count": null,
      "outputs": [
        {
          "output_type": "stream",
          "text": [
            "The first two names of the depth maps are: ['586290925-7.csv', '589454964-0.csv']\n"
          ],
          "name": "stdout"
        }
      ]
    },
    {
      "cell_type": "markdown",
      "metadata": {
        "id": "HWuEqSYPk3hn",
        "colab_type": "text"
      },
      "source": [
        "*Load All Paths*"
      ]
    },
    {
      "cell_type": "code",
      "metadata": {
        "id": "G04aQvgDyUZ8",
        "colab_type": "code",
        "colab": {
          "base_uri": "https://localhost:8080/",
          "height": 35
        },
        "outputId": "9decdfed-277d-47c5-aae8-2cca82dfeebb"
      },
      "source": [
        "path = \"/content/drive/My Drive/Master/Thesis/Cow_Images_T\"\n",
        "\n",
        "AllPaths = getListOfFiles(path)\n",
        "\n",
        "print(\"There are a total of {} paths detected.\".format(len(AllPaths)))"
      ],
      "execution_count": null,
      "outputs": [
        {
          "output_type": "stream",
          "text": [
            "There are a total of 500 paths detected.\n"
          ],
          "name": "stdout"
        }
      ]
    },
    {
      "cell_type": "markdown",
      "metadata": {
        "id": "PGK2dzopmOlV",
        "colab_type": "text"
      },
      "source": [
        "*Load All Depth Paths*"
      ]
    },
    {
      "cell_type": "code",
      "metadata": {
        "id": "9ZTa79dP4y46",
        "colab_type": "code",
        "colab": {
          "base_uri": "https://localhost:8080/",
          "height": 35
        },
        "outputId": "2d3bb100-d1bc-4489-fcdf-a8a485be5588"
      },
      "source": [
        "depth_paths = []\n",
        "\n",
        "for path in AllPaths:\n",
        "  for index, depth_name in enumerate(depth_names):\n",
        "    if path.endswith(depth_names[index]):\n",
        "      depth_paths.append(path)\n",
        "\n",
        "print(\"{} Depths detected\".format(len(depth_paths)))"
      ],
      "execution_count": null,
      "outputs": [
        {
          "output_type": "stream",
          "text": [
            "72 Depths detected\n"
          ],
          "name": "stdout"
        }
      ]
    },
    {
      "cell_type": "markdown",
      "metadata": {
        "id": "k5x64E6Zk9PY",
        "colab_type": "text"
      },
      "source": [
        "*Load Good Depth Paths*"
      ]
    },
    {
      "cell_type": "code",
      "metadata": {
        "id": "erCqfK4SlBkV",
        "colab_type": "code",
        "colab": {
          "base_uri": "https://localhost:8080/",
          "height": 35
        },
        "outputId": "3bb7b3a0-4930-45e2-848d-a8c1da732f64"
      },
      "source": [
        "depth_paths_good_images = []\n",
        "\n",
        "for path in AllPaths:\n",
        "  for index, depth_name in enumerate(depth_names_good_images):\n",
        "    if path.endswith(depth_names_good_images[index]):\n",
        "      depth_paths_good_images.append(path)\n",
        "\n",
        "print(\"{} Good Depths detected\".format(len(depth_paths_good_images)))"
      ],
      "execution_count": null,
      "outputs": [
        {
          "output_type": "stream",
          "text": [
            "29 Good Depths detected\n"
          ],
          "name": "stdout"
        }
      ]
    },
    {
      "cell_type": "markdown",
      "metadata": {
        "id": "WFm0bg1IlqKf",
        "colab_type": "text"
      },
      "source": [
        "Load Depths"
      ]
    },
    {
      "cell_type": "code",
      "metadata": {
        "id": "FYTo5YNTJkoG",
        "colab_type": "code",
        "colab": {
          "base_uri": "https://localhost:8080/",
          "height": 35
        },
        "outputId": "94e736ca-37a3-4799-fd1b-737c294e0347"
      },
      "source": [
        "depths = [np.array(pd.read_csv(depth, header = None)) for depth in depth_paths]\n",
        "\n",
        "print(\"The number of depths loaded: {}\".format(len(depths)))"
      ],
      "execution_count": null,
      "outputs": [
        {
          "output_type": "stream",
          "text": [
            "The number of depths loaded: 72\n"
          ],
          "name": "stdout"
        }
      ]
    },
    {
      "cell_type": "code",
      "metadata": {
        "id": "bCImL0Aflr_A",
        "colab_type": "code",
        "colab": {
          "base_uri": "https://localhost:8080/",
          "height": 35
        },
        "outputId": "ebe0cdea-d6b0-41dd-e698-2f8ecfff72ef"
      },
      "source": [
        "depths_good_image = [np.array(pd.read_csv(depth, header = None)) for depth in depth_paths_good_images]\n",
        "\n",
        "print(\"The number of good depths loaded: {}\".format(len(depths_good_image)))"
      ],
      "execution_count": null,
      "outputs": [
        {
          "output_type": "stream",
          "text": [
            "The number of good depths loaded: 29\n"
          ],
          "name": "stdout"
        }
      ]
    },
    {
      "cell_type": "markdown",
      "metadata": {
        "id": "pO-LPu8vfJCJ",
        "colab_type": "text"
      },
      "source": [
        "Resize Depths"
      ]
    },
    {
      "cell_type": "code",
      "metadata": {
        "id": "Z1LaNQ0lfIYS",
        "colab_type": "code",
        "colab": {}
      },
      "source": [
        "depths = [cv2.resize(depths[index], (4032, 3024)) for index, depth in enumerate(depths)]"
      ],
      "execution_count": null,
      "outputs": []
    },
    {
      "cell_type": "code",
      "metadata": {
        "id": "yKPA3jIKmBr3",
        "colab_type": "code",
        "colab": {}
      },
      "source": [
        "depths_good_image = [cv2.resize(depths_good_image[index], (4032, 3024)) for index, depth in enumerate(depths_good_image)]"
      ],
      "execution_count": null,
      "outputs": []
    },
    {
      "cell_type": "code",
      "metadata": {
        "id": "vOYagHmeMO8p",
        "colab_type": "code",
        "colab": {}
      },
      "source": [
        "plt.imshow(depths[1])\n",
        "plt.title(image_names_no_extension[1])\n",
        "plt.axis(\"off\")\n",
        "plt.show()"
      ],
      "execution_count": null,
      "outputs": []
    },
    {
      "cell_type": "markdown",
      "metadata": {
        "id": "Rn3IoMbu1cDU",
        "colab_type": "text"
      },
      "source": [
        "c) Radian"
      ]
    },
    {
      "cell_type": "code",
      "metadata": {
        "id": "IaLIIiqG1dBr",
        "colab_type": "code",
        "colab": {
          "base_uri": "https://localhost:8080/",
          "height": 54
        },
        "outputId": "b60dcf60-4bdd-4b8f-9772-b20dfe57f63c"
      },
      "source": [
        "## Radians are saved in files called N-info.txt where N = 1, 2, ... , 72\n",
        "\n",
        "radian_names = [str(number + 1)  + \"-info.txt\" for number in range(72)]\n",
        "\n",
        "print(\"The first two radian names are: {}\".format(radian_names[:2]))\n",
        "print(\"The last two radian names are: {}\".format(radian_names[-2:]))"
      ],
      "execution_count": null,
      "outputs": [
        {
          "output_type": "stream",
          "text": [
            "The first two radian names are: ['1-info.txt', '2-info.txt']\n",
            "The last two radian names are: ['71-info.txt', '72-info.txt']\n"
          ],
          "name": "stdout"
        }
      ]
    },
    {
      "cell_type": "code",
      "metadata": {
        "id": "FWNjuMxo1nC1",
        "colab_type": "code",
        "colab": {
          "base_uri": "https://localhost:8080/",
          "height": 35
        },
        "outputId": "06fbef94-2187-4e69-ea4b-5411da942e05"
      },
      "source": [
        "radian_paths = []\n",
        "\n",
        "for path in AllPaths:\n",
        "  for index, radian_name in enumerate(radian_names):\n",
        "    if path.endswith(radian_names[index]):\n",
        "      radian_paths.append(path)\n",
        "\n",
        "radian_paths = np.unique(radian_paths)\n",
        "print(\"{} Radians detected\".format(len(radian_paths)))"
      ],
      "execution_count": null,
      "outputs": [
        {
          "output_type": "stream",
          "text": [
            "68 Radians detected\n"
          ],
          "name": "stdout"
        }
      ]
    },
    {
      "cell_type": "markdown",
      "metadata": {
        "id": "EAyamUhVTadK",
        "colab_type": "text"
      },
      "source": [
        "Create function to read in radian values"
      ]
    },
    {
      "cell_type": "code",
      "metadata": {
        "id": "qCJA-eacN6Vj",
        "colab_type": "code",
        "colab": {}
      },
      "source": [
        "def read_radian(radians_paths):\n",
        "  with open(radian_path) as metafile:\n",
        "    md = metafile.read().split(\",\")\n",
        "    radian = float(md[2])\n",
        "\n",
        "  return radian"
      ],
      "execution_count": null,
      "outputs": []
    },
    {
      "cell_type": "code",
      "metadata": {
        "id": "kDFA99WuSjJ9",
        "colab_type": "code",
        "colab": {
          "base_uri": "https://localhost:8080/",
          "height": 35
        },
        "outputId": "b3269aa0-23e5-41e9-ce31-187b40a98799"
      },
      "source": [
        "radians = []\n",
        "\n",
        "for radian_path in radian_paths:\n",
        "  radians.append(read_radian(radian_path))\n",
        "\n",
        "\n",
        "print(\"The radian is constant for all the images: {}\".format(np.unique(radians)))\n",
        "\n",
        "## Add the four missing radian values by enlarging the list to len 72\n",
        "radians = [np.unique(radians)]*len(images)"
      ],
      "execution_count": null,
      "outputs": [
        {
          "output_type": "stream",
          "text": [
            "The radian is constant for all the images: [66.487946]\n"
          ],
          "name": "stdout"
        }
      ]
    },
    {
      "cell_type": "markdown",
      "metadata": {
        "id": "e080GdJaT7Cd",
        "colab_type": "text"
      },
      "source": [
        "### Claculate Body Measures from Estimated Keypoints (All Images)\n",
        "\n",
        "\n"
      ]
    },
    {
      "cell_type": "markdown",
      "metadata": {
        "id": "Fr5ImXBPuvRb",
        "colab_type": "text"
      },
      "source": [
        "Get the aspects ratio"
      ]
    },
    {
      "cell_type": "code",
      "metadata": {
        "id": "V5DGNt6mTYVJ",
        "colab_type": "code",
        "colab": {}
      },
      "source": [
        "## Get aspects ratio \n",
        "aspects_ratio = 3024/4032"
      ],
      "execution_count": null,
      "outputs": []
    },
    {
      "cell_type": "code",
      "metadata": {
        "id": "zD3s2eWreBfg",
        "colab_type": "code",
        "colab": {
          "base_uri": "https://localhost:8080/"
        },
        "outputId": "e2bd576c-80ba-43c3-c64f-fd8e6973efd2"
      },
      "source": [
        "estimated_keypoints = estimated_keypoints.swapaxes(1,2)\n",
        "\n",
        "print(estimated_keypoints.shape)"
      ],
      "execution_count": null,
      "outputs": [
        {
          "output_type": "stream",
          "text": [
            "(72, 8, 2)\n"
          ],
          "name": "stdout"
        }
      ]
    },
    {
      "cell_type": "markdown",
      "metadata": {
        "id": "5zvr-CQuuxVX",
        "colab_type": "text"
      },
      "source": [
        "Extract the depth values corresponding to the estimated keypoints"
      ]
    },
    {
      "cell_type": "code",
      "metadata": {
        "id": "T7PzyILDckdT",
        "colab_type": "code",
        "colab": {}
      },
      "source": [
        "n_depths, kps, coordinates = estimated_keypoints.shape"
      ],
      "execution_count": null,
      "outputs": []
    },
    {
      "cell_type": "code",
      "metadata": {
        "id": "bXMTxZRzia2l",
        "colab_type": "code",
        "colab": {
          "base_uri": "https://localhost:8080/"
        },
        "outputId": "13f0673d-38a7-4f3a-e756-5f05de5b464a"
      },
      "source": [
        "depth_values = []\n",
        "\n",
        "# First Dimension: 72\n",
        "for depth in range(n_depths):\n",
        "   \n",
        "  # Get the KPx and KPy as integers\n",
        "  for kp in range(kps):\n",
        "  \n",
        "    y, x = estimated_keypoints[depth, kp, :]\n",
        "\n",
        "    depth_values.append(depths[depth][y][x])\n",
        "\n",
        "\n",
        "## Reshape the depth values to be number of images x keypoints\n",
        "depth_values = np.array(depth_values).reshape(72,8)\n",
        "\n",
        "print(\"The shape of the depth values corresponding to the keypoints is: {} (number of images x keypoint)\".format(np.shape(depth_values)))"
      ],
      "execution_count": null,
      "outputs": [
        {
          "output_type": "stream",
          "text": [
            "The shape of the depth values corresponding to the keypoints is: (72, 8) (number of images x keypoint)\n"
          ],
          "name": "stdout"
        }
      ]
    },
    {
      "cell_type": "markdown",
      "metadata": {
        "id": "jjW8MaaGvIAe",
        "colab_type": "text"
      },
      "source": [
        "Calculate the z-score"
      ]
    },
    {
      "cell_type": "code",
      "metadata": {
        "id": "upRlZIL2qvYI",
        "colab_type": "code",
        "colab": {}
      },
      "source": [
        "## Calculate z-score fore the different body measures\n",
        "z_scores_bl = []\n",
        "z_scores_hh = []\n",
        "z_scores_hw = []\n",
        "z_scores_hg = []\n",
        "\n",
        "for index, image in enumerate(images):\n",
        "  z_score_bl = calculate_z_score(depth_values[index,:], 0, 1)\n",
        "  z_score_hh = calculate_z_score(depth_values[index,:], 2, 3)\n",
        "  z_score_hw = calculate_z_score(depth_values[index,:], 4, 5)\n",
        "  z_score_hg = calculate_z_score(depth_values[index,:], 6, 7)\n",
        "\n",
        "  z_scores_bl.append(z_score_bl)\n",
        "  z_scores_hh.append(z_score_hh)\n",
        "  z_scores_hw.append(z_score_hw)\n",
        "  z_scores_hg.append(z_score_hg)"
      ],
      "execution_count": null,
      "outputs": []
    },
    {
      "cell_type": "code",
      "metadata": {
        "id": "8_W2WtcouD71",
        "colab_type": "code",
        "colab": {
          "base_uri": "https://localhost:8080/"
        },
        "outputId": "913bdca5-eb06-4393-bdad-b08c2b9da044"
      },
      "source": [
        "z_scores = np.array([z_scores_bl, z_scores_hh, z_scores_hw, z_scores_hg]).transpose()\n",
        "\n",
        "print(\"The z-score matrix has the following shape: {}\".format(z_scores.shape))"
      ],
      "execution_count": null,
      "outputs": [
        {
          "output_type": "stream",
          "text": [
            "The z-score matrix has the following shape: (72, 4)\n"
          ],
          "name": "stdout"
        }
      ]
    },
    {
      "cell_type": "code",
      "metadata": {
        "id": "n1cfGxwQ4yer",
        "colab_type": "code",
        "colab": {
          "base_uri": "https://localhost:8080/"
        },
        "outputId": "01a9b691-6f07-47ec-85fa-8ab17cfe29c1"
      },
      "source": [
        "xys_bl = []\n",
        "xys_hh = []\n",
        "xys_hw = []\n",
        "xys_hg = []\n",
        "\n",
        "for index, image in enumerate(images):\n",
        "  xy_bl = calculations(AspectRatio= 0.75, radian= radians[0], keypoint_depth_value = depth_values[index], estimated_keypoints=estimated_keypoints[index], p1 = 0, p2 = 1)\n",
        "  xy_hh = calculations(AspectRatio= 0.75, radian= radians[0], keypoint_depth_value = depth_values[index], estimated_keypoints=estimated_keypoints[index], p1 = 2, p2 = 3)\n",
        "  xy_hw = calculations(AspectRatio= 0.75, radian= radians[0], keypoint_depth_value = depth_values[index], estimated_keypoints=estimated_keypoints[index], p1 = 4, p2 = 5)\n",
        "  xy_hg = calculations(AspectRatio= 0.75, radian= radians[0], keypoint_depth_value = depth_values[index], estimated_keypoints=estimated_keypoints[index], p1 = 6, p2 = 7)\n",
        "\n",
        "  xys_bl.append(xy_bl)\n",
        "  xys_hh.append(xy_hh)\n",
        "  xys_hw.append(xy_hw)\n",
        "  xys_hg.append(xy_hg)\n",
        "\n",
        "\n",
        "xys = np.array([xys_bl, xys_hh, xys_hw, xys_hg]).swapaxes(0,1)\n",
        "\n",
        "print(\"The shape of the resulting array with x and y is: {}, i.e. number of images x number of body measures x xy coordinates\".format(xys.shape))"
      ],
      "execution_count": null,
      "outputs": [
        {
          "output_type": "stream",
          "text": [
            "The shape of the resulting array with x and y is: (72, 4, 2), i.e. number of images x number of body measures x xy coordinates\n"
          ],
          "name": "stdout"
        }
      ]
    },
    {
      "cell_type": "markdown",
      "metadata": {
        "id": "_XXR95Qr_VrV",
        "colab_type": "text"
      },
      "source": [
        "Calculate Body Measures"
      ]
    },
    {
      "cell_type": "code",
      "metadata": {
        "id": "gdk0WPBK-_Le",
        "colab_type": "code",
        "colab": {}
      },
      "source": [
        "n_images, n_bms = z_scores.shape\n",
        "\n",
        "body_measures = []\n",
        "\n",
        "## Iterate through images and keypoints\n",
        "\n",
        "for image in range(n_images):\n",
        "\n",
        "  for bm in range(n_bms):\n",
        "\n",
        "    iter_xys = xys[image, bm]\n",
        "\n",
        "    z_score = z_scores[image, bm]\n",
        "\n",
        "    body_measure = calculate_body_measure(iter_xys, z_score)\n",
        "\n",
        "    body_measures.append(body_measure)"
      ],
      "execution_count": null,
      "outputs": []
    },
    {
      "cell_type": "code",
      "metadata": {
        "id": "kexpkZc4AbIE",
        "colab_type": "code",
        "colab": {}
      },
      "source": [
        "body_measures = np.array(body_measures).reshape(72,4)"
      ],
      "execution_count": null,
      "outputs": []
    },
    {
      "cell_type": "code",
      "metadata": {
        "id": "Av3JL98qAc_1",
        "colab_type": "code",
        "colab": {
          "base_uri": "https://localhost:8080/"
        },
        "outputId": "f8d7414e-7ce1-4158-e9fa-0868c5d8fbb4"
      },
      "source": [
        "body_measures[0,:]"
      ],
      "execution_count": null,
      "outputs": [
        {
          "output_type": "execute_result",
          "data": {
            "text/plain": [
              "array([5.58366543e-05, 2.90635674e-04, 4.04976031e-04, 8.62421379e-04])"
            ]
          },
          "metadata": {
            "tags": []
          },
          "execution_count": 74
        }
      ]
    },
    {
      "cell_type": "markdown",
      "metadata": {
        "id": "B7xLf20NA1pk",
        "colab_type": "text"
      },
      "source": [
        "Combine Results"
      ]
    },
    {
      "cell_type": "code",
      "metadata": {
        "id": "ZAdIQ4RQAfmd",
        "colab_type": "code",
        "colab": {}
      },
      "source": [
        "results_body_measures = pd.DataFrame(body_measures, \n",
        "                                     index = image_names,\n",
        "                                     columns = [\"Body_Length\", \"Hip_Height\", \"Hip_Width\", \"Heart_Girth\"])"
      ],
      "execution_count": null,
      "outputs": []
    },
    {
      "cell_type": "code",
      "metadata": {
        "id": "DzroEsx9BHMf",
        "colab_type": "code",
        "colab": {
          "base_uri": "https://localhost:8080/"
        },
        "outputId": "cb1891b4-45dd-49c1-d0b1-8c71d6e294ba"
      },
      "source": [
        "results_body_measures.head()"
      ],
      "execution_count": null,
      "outputs": [
        {
          "output_type": "execute_result",
          "data": {
            "text/html": [
              "<div>\n",
              "<style scoped>\n",
              "    .dataframe tbody tr th:only-of-type {\n",
              "        vertical-align: middle;\n",
              "    }\n",
              "\n",
              "    .dataframe tbody tr th {\n",
              "        vertical-align: top;\n",
              "    }\n",
              "\n",
              "    .dataframe thead th {\n",
              "        text-align: right;\n",
              "    }\n",
              "</style>\n",
              "<table border=\"1\" class=\"dataframe\">\n",
              "  <thead>\n",
              "    <tr style=\"text-align: right;\">\n",
              "      <th></th>\n",
              "      <th>Body_Length</th>\n",
              "      <th>Hip_Height</th>\n",
              "      <th>Hip_Width</th>\n",
              "      <th>Heart_Girth</th>\n",
              "    </tr>\n",
              "  </thead>\n",
              "  <tbody>\n",
              "    <tr>\n",
              "      <th>585216074-0.jpg</th>\n",
              "      <td>0.000056</td>\n",
              "      <td>0.000291</td>\n",
              "      <td>0.000405</td>\n",
              "      <td>0.000862</td>\n",
              "    </tr>\n",
              "    <tr>\n",
              "      <th>586290717-8.jpg</th>\n",
              "      <td>0.000046</td>\n",
              "      <td>0.000260</td>\n",
              "      <td>0.000362</td>\n",
              "      <td>0.000752</td>\n",
              "    </tr>\n",
              "    <tr>\n",
              "      <th>586290925-7.jpg</th>\n",
              "      <td>0.000112</td>\n",
              "      <td>0.000340</td>\n",
              "      <td>0.000508</td>\n",
              "      <td>0.002040</td>\n",
              "    </tr>\n",
              "    <tr>\n",
              "      <th>589454323-0.jpg</th>\n",
              "      <td>0.000082</td>\n",
              "      <td>0.001139</td>\n",
              "      <td>0.000967</td>\n",
              "      <td>0.001749</td>\n",
              "    </tr>\n",
              "    <tr>\n",
              "      <th>589454978-8.jpg</th>\n",
              "      <td>0.000048</td>\n",
              "      <td>0.000569</td>\n",
              "      <td>0.000505</td>\n",
              "      <td>0.000785</td>\n",
              "    </tr>\n",
              "  </tbody>\n",
              "</table>\n",
              "</div>"
            ],
            "text/plain": [
              "                 Body_Length  Hip_Height  Hip_Width  Heart_Girth\n",
              "585216074-0.jpg     0.000056    0.000291   0.000405     0.000862\n",
              "586290717-8.jpg     0.000046    0.000260   0.000362     0.000752\n",
              "586290925-7.jpg     0.000112    0.000340   0.000508     0.002040\n",
              "589454323-0.jpg     0.000082    0.001139   0.000967     0.001749\n",
              "589454978-8.jpg     0.000048    0.000569   0.000505     0.000785"
            ]
          },
          "metadata": {
            "tags": []
          },
          "execution_count": 76
        }
      ]
    },
    {
      "cell_type": "code",
      "metadata": {
        "id": "bqCeea-zBJr2",
        "colab_type": "code",
        "colab": {}
      },
      "source": [
        "results_body_measures.to_csv(\"/content/drive/My Drive/Master/Thesis/Body Measures Results/results_body_measures.csv\")"
      ],
      "execution_count": null,
      "outputs": []
    },
    {
      "cell_type": "markdown",
      "metadata": {
        "id": "XzW4LzCZNhVi",
        "colab_type": "text"
      },
      "source": [
        "### Calculate Annotated Body Measures"
      ]
    },
    {
      "cell_type": "markdown",
      "metadata": {
        "id": "6MoZcywTNo7I",
        "colab_type": "text"
      },
      "source": [
        "Load Annotated Keypoints"
      ]
    },
    {
      "cell_type": "code",
      "metadata": {
        "id": "T3LVAE1ZNm9M",
        "colab_type": "code",
        "colab": {
          "base_uri": "https://localhost:8080/"
        },
        "outputId": "8bfee07c-92ee-468c-9c38-398e874cb609"
      },
      "source": [
        "os.chdir(\"/content/drive/My Drive/Master/Thesis/Keypoints\")\n",
        "\n",
        "## Read in the data\n",
        "keypoint_data = pd.read_csv(\"labels_keypoints.csv\",\n",
        "                            header = None,\n",
        "                            names = [\"Label\", \"X\", \"Y\", \"Image_Name\", \"Xdim\", \"Ydim\"])\n",
        "\n",
        "keypoint_data.head()"
      ],
      "execution_count": null,
      "outputs": [
        {
          "output_type": "execute_result",
          "data": {
            "text/html": [
              "<div>\n",
              "<style scoped>\n",
              "    .dataframe tbody tr th:only-of-type {\n",
              "        vertical-align: middle;\n",
              "    }\n",
              "\n",
              "    .dataframe tbody tr th {\n",
              "        vertical-align: top;\n",
              "    }\n",
              "\n",
              "    .dataframe thead th {\n",
              "        text-align: right;\n",
              "    }\n",
              "</style>\n",
              "<table border=\"1\" class=\"dataframe\">\n",
              "  <thead>\n",
              "    <tr style=\"text-align: right;\">\n",
              "      <th></th>\n",
              "      <th>Label</th>\n",
              "      <th>X</th>\n",
              "      <th>Y</th>\n",
              "      <th>Image_Name</th>\n",
              "      <th>Xdim</th>\n",
              "      <th>Ydim</th>\n",
              "    </tr>\n",
              "  </thead>\n",
              "  <tbody>\n",
              "    <tr>\n",
              "      <th>0</th>\n",
              "      <td>back_start</td>\n",
              "      <td>3227</td>\n",
              "      <td>614</td>\n",
              "      <td>595688782-2.jpg</td>\n",
              "      <td>4032</td>\n",
              "      <td>3024</td>\n",
              "    </tr>\n",
              "    <tr>\n",
              "      <th>1</th>\n",
              "      <td>back_end</td>\n",
              "      <td>690</td>\n",
              "      <td>1228</td>\n",
              "      <td>595688782-2.jpg</td>\n",
              "      <td>4032</td>\n",
              "      <td>3024</td>\n",
              "    </tr>\n",
              "    <tr>\n",
              "      <th>2</th>\n",
              "      <td>hip_end</td>\n",
              "      <td>886</td>\n",
              "      <td>2777</td>\n",
              "      <td>595688782-2.jpg</td>\n",
              "      <td>4032</td>\n",
              "      <td>3024</td>\n",
              "    </tr>\n",
              "    <tr>\n",
              "      <th>3</th>\n",
              "      <td>hip_start</td>\n",
              "      <td>937</td>\n",
              "      <td>1480</td>\n",
              "      <td>595688782-2.jpg</td>\n",
              "      <td>4032</td>\n",
              "      <td>3024</td>\n",
              "    </tr>\n",
              "    <tr>\n",
              "      <th>4</th>\n",
              "      <td>hip_width_left</td>\n",
              "      <td>1065</td>\n",
              "      <td>972</td>\n",
              "      <td>595688782-2.jpg</td>\n",
              "      <td>4032</td>\n",
              "      <td>3024</td>\n",
              "    </tr>\n",
              "  </tbody>\n",
              "</table>\n",
              "</div>"
            ],
            "text/plain": [
              "            Label     X     Y       Image_Name  Xdim  Ydim\n",
              "0      back_start  3227   614  595688782-2.jpg  4032  3024\n",
              "1        back_end   690  1228  595688782-2.jpg  4032  3024\n",
              "2         hip_end   886  2777  595688782-2.jpg  4032  3024\n",
              "3       hip_start   937  1480  595688782-2.jpg  4032  3024\n",
              "4  hip_width_left  1065   972  595688782-2.jpg  4032  3024"
            ]
          },
          "metadata": {
            "tags": []
          },
          "execution_count": 78
        }
      ]
    },
    {
      "cell_type": "code",
      "metadata": {
        "id": "wPFvlF-oOnwr",
        "colab_type": "code",
        "colab": {}
      },
      "source": [
        "keypoint_label_dict = {\"back_start\": \"p1\",\n",
        "                       \"back_end\": \"p2\",\n",
        "                       \"hip_start\": \"p3\",\n",
        "                       \"hip_end\": \"p4\",\n",
        "                       \"hip_width_left\": \"p5\",\n",
        "                       \"hip_width_right\": \"p6\",\n",
        "                       \"girth_start\": \"p7\",\n",
        "                       \"girth_end\": \"p8\"}"
      ],
      "execution_count": null,
      "outputs": []
    },
    {
      "cell_type": "code",
      "metadata": {
        "id": "FscI3fyOOu2_",
        "colab_type": "code",
        "colab": {}
      },
      "source": [
        "keypoint_data.loc[:,\"Label\"] = keypoint_data.loc[:,\"Label\"].map(keypoint_label_dict)"
      ],
      "execution_count": null,
      "outputs": []
    },
    {
      "cell_type": "code",
      "metadata": {
        "id": "Bjui1h--O5Ft",
        "colab_type": "code",
        "colab": {
          "base_uri": "https://localhost:8080/"
        },
        "outputId": "4adc03f0-6707-4c30-ba85-e82ca5c1e067"
      },
      "source": [
        "## Pivot the keypoint data set to have Image as index and Label + X or Label + Y as column.\n",
        "keypoint_data = keypoint_data.pivot_table(index = \"Image_Name\", columns = \"Label\", values = [\"X\", \"Y\"]).bfill()\n",
        "\n",
        "print(\"\\n First 5 rows of pivote keypoint data\")\n",
        "print(keypoint_data.head())\n",
        "\n",
        "## Reindex to make sure the order of images is the same\n",
        "keypoint_data = keypoint_data.reindex(image_names)\n",
        "\n",
        "## Keypoint as numpy array\n",
        "keypoint_data = np.array(keypoint_data)"
      ],
      "execution_count": null,
      "outputs": [
        {
          "output_type": "stream",
          "text": [
            "\n",
            " First 5 rows of pivote keypoint data\n",
            "                      X                          ...       Y                        \n",
            "Label                p1      p2      p3      p4  ...      p5      p6      p7      p8\n",
            "Image_Name                                       ...                                \n",
            "585216074-0.jpg  1645.0  3667.0  3496.0  3249.0  ...  1066.0  1173.0   857.0  1757.0\n",
            "586290717-8.jpg  3010.0  1227.0  1355.0  3249.0  ...   896.0  1173.0  1100.0  1885.0\n",
            "586290925-7.jpg  1218.0  3432.0  3385.0  3249.0  ...   896.0   525.0   627.0  1907.0\n",
            "589454323-0.jpg  2289.0  2460.0  1359.0   736.0  ...  1365.0  1271.0  1621.0  2273.0\n",
            "589454370-6.jpg  1018.0  3722.0  1359.0   736.0  ...  1390.0  1177.0  1471.0  2273.0\n",
            "\n",
            "[5 rows x 16 columns]\n"
          ],
          "name": "stdout"
        }
      ]
    },
    {
      "cell_type": "markdown",
      "metadata": {
        "id": "lsI7-D0tNyxn",
        "colab_type": "text"
      },
      "source": [
        "Get aspects ratio"
      ]
    },
    {
      "cell_type": "code",
      "metadata": {
        "id": "4ymDTvAdNzGN",
        "colab_type": "code",
        "colab": {}
      },
      "source": [
        "## Get aspects ratio \n",
        "aspects_ratio = 3024/4032"
      ],
      "execution_count": null,
      "outputs": []
    },
    {
      "cell_type": "markdown",
      "metadata": {
        "id": "H1z4UfDeN5eV",
        "colab_type": "text"
      },
      "source": [
        "Extract the depth values corresponding to the annotated keypoints"
      ]
    },
    {
      "cell_type": "code",
      "metadata": {
        "id": "vfJTlZwbPXUY",
        "colab_type": "code",
        "colab": {}
      },
      "source": [
        "keypoint_data = keypoint_data.reshape(72,2,8).swapaxes(1,2)"
      ],
      "execution_count": null,
      "outputs": []
    },
    {
      "cell_type": "code",
      "metadata": {
        "id": "6hakzC57N5-s",
        "colab_type": "code",
        "colab": {
          "base_uri": "https://localhost:8080/"
        },
        "outputId": "fafa112e-0cac-4e14-ab88-f63c1df9f688"
      },
      "source": [
        "n_depths, kps, coordinates = keypoint_data.shape\n",
        "\n",
        "depth_values_annotated = []\n",
        "\n",
        "# First Dimension: 72\n",
        "for depth in range(n_depths):\n",
        "   \n",
        "  # Get the KPx and KPy as integers\n",
        "  for kp in range(kps):\n",
        "  \n",
        "    x, y = int(keypoint_data[depth, kp,0]), int(keypoint_data[depth, kp,1])\n",
        "\n",
        "    depth_values_annotated.append(depths[depth][y][x])\n",
        "\n",
        "\n",
        "## Reshape the depth values to be number of images x keypoints\n",
        "depth_values_annotated = np.array(depth_values).reshape(72,8)\n",
        "\n",
        "print(\"The shape of the depth values corresponding to the keypoints is: {} (number of images x keypoint)\".format(np.shape(depth_values_annotated)))"
      ],
      "execution_count": null,
      "outputs": [
        {
          "output_type": "stream",
          "text": [
            "The shape of the depth values corresponding to the keypoints is: (72, 8) (number of images x keypoint)\n"
          ],
          "name": "stdout"
        }
      ]
    },
    {
      "cell_type": "markdown",
      "metadata": {
        "id": "PDk6lO35NrRd",
        "colab_type": "text"
      },
      "source": [
        "Calculate z-score"
      ]
    },
    {
      "cell_type": "code",
      "metadata": {
        "colab_type": "code",
        "id": "mmDxwq0FfD4G",
        "colab": {}
      },
      "source": [
        "## Calculate z-score fore the different body measures\n",
        "z_scores_bl = []\n",
        "z_scores_hh = []\n",
        "z_scores_hw = []\n",
        "z_scores_hg = []\n",
        "\n",
        "for index, image in enumerate(images):\n",
        "  z_score_bl = calculate_z_score(depth_values_annotated[index,:], 0, 1)\n",
        "  z_score_hh = calculate_z_score(depth_values_annotated[index,:], 2, 3)\n",
        "  z_score_hw = calculate_z_score(depth_values_annotated[index,:], 4, 5)\n",
        "  z_score_hg = calculate_z_score(depth_values_annotated[index,:], 6, 7)\n",
        "\n",
        "  z_scores_bl.append(z_score_bl)\n",
        "  z_scores_hh.append(z_score_hh)\n",
        "  z_scores_hw.append(z_score_hw)\n",
        "  z_scores_hg.append(z_score_hg)"
      ],
      "execution_count": null,
      "outputs": []
    },
    {
      "cell_type": "code",
      "metadata": {
        "colab_type": "code",
        "id": "ac7xRAJZfD4V",
        "colab": {
          "base_uri": "https://localhost:8080/"
        },
        "outputId": "1c7b1f30-94ad-4ff3-c246-5133741c290d"
      },
      "source": [
        "z_scores_annotated = np.array([z_scores_bl, z_scores_hh, z_scores_hw, z_scores_hg]).transpose()\n",
        "\n",
        "print(\"The z-score matrix has the following shape: {}\".format(z_scores_annotated.shape))"
      ],
      "execution_count": null,
      "outputs": [
        {
          "output_type": "stream",
          "text": [
            "The z-score matrix has the following shape: (72, 4)\n"
          ],
          "name": "stdout"
        }
      ]
    },
    {
      "cell_type": "markdown",
      "metadata": {
        "id": "DWCB31VKN_pI",
        "colab_type": "text"
      },
      "source": [
        "Calculate the XY needed for distance calculation"
      ]
    },
    {
      "cell_type": "code",
      "metadata": {
        "colab_type": "code",
        "id": "3KuiJeVPfl-G",
        "colab": {
          "base_uri": "https://localhost:8080/"
        },
        "outputId": "af5c26a5-02c4-41e0-ff9d-69cc98782b68"
      },
      "source": [
        "xys_bl = []\n",
        "xys_hh = []\n",
        "xys_hw = []\n",
        "xys_hg = []\n",
        "\n",
        "for index, image in enumerate(images):\n",
        "  xy_bl = calculations(AspectRatio= 0.75, radian= radians[0], keypoint_depth_value = depth_values_annotated[index], estimated_keypoints=keypoint_data[index], p1 = 0, p2 = 1)\n",
        "  xy_hh = calculations(AspectRatio= 0.75, radian= radians[0], keypoint_depth_value = depth_values_annotated[index], estimated_keypoints=keypoint_data[index], p1 = 2, p2 = 3)\n",
        "  xy_hw = calculations(AspectRatio= 0.75, radian= radians[0], keypoint_depth_value = depth_values_annotated[index], estimated_keypoints=keypoint_data[index], p1 = 4, p2 = 5)\n",
        "  xy_hg = calculations(AspectRatio= 0.75, radian= radians[0], keypoint_depth_value = depth_values_annotated[index], estimated_keypoints=keypoint_data[index], p1 = 6, p2 = 7)\n",
        "\n",
        "  xys_bl.append(xy_bl)\n",
        "  xys_hh.append(xy_hh)\n",
        "  xys_hw.append(xy_hw)\n",
        "  xys_hg.append(xy_hg)\n",
        "\n",
        "\n",
        "xys_annotated = np.array([xys_bl, xys_hh, xys_hw, xys_hg]).swapaxes(0,1)\n",
        "\n",
        "print(\"The shape of the resulting array with x and y is: {}, i.e. number of images x number of body measures x xy coordinates\".format(xys_annotated.shape))"
      ],
      "execution_count": null,
      "outputs": [
        {
          "output_type": "stream",
          "text": [
            "The shape of the resulting array with x and y is: (72, 4, 2), i.e. number of images x number of body measures x xy coordinates\n"
          ],
          "name": "stdout"
        }
      ]
    },
    {
      "cell_type": "code",
      "metadata": {
        "colab_type": "code",
        "id": "O_bzgFK_fl-Z",
        "colab": {}
      },
      "source": [
        "n_images, n_bms = z_scores_annotated.shape\n",
        "\n",
        "body_measures_annotated = []\n",
        "\n",
        "## Iterate through images and keypoints\n",
        "\n",
        "for image in range(n_images):\n",
        "\n",
        "  for bm in range(n_bms):\n",
        "\n",
        "    iter_xys = xys_annotated[image, bm]\n",
        "\n",
        "    z_score = z_scores_annotated[image, bm]\n",
        "\n",
        "    body_measure = calculate_body_measure(iter_xys, z_score)\n",
        "\n",
        "    body_measures_annotated.append(body_measure)"
      ],
      "execution_count": null,
      "outputs": []
    },
    {
      "cell_type": "code",
      "metadata": {
        "colab_type": "code",
        "id": "htZMbx5Lfl-i",
        "colab": {}
      },
      "source": [
        "body_measures_annotated = np.array(body_measures_annotated).reshape(72,4)"
      ],
      "execution_count": null,
      "outputs": []
    },
    {
      "cell_type": "code",
      "metadata": {
        "colab_type": "code",
        "id": "FUBbPwxdfl-p",
        "colab": {}
      },
      "source": [
        "results_body_measures_annotated = pd.DataFrame(body_measures_annotated,\n",
        "                                               index = image_names,\n",
        "                                               columns = [\"Body_Length\", \"Hip_Height\", \"Hip_Width\", \"Heart_Girth\"])"
      ],
      "execution_count": null,
      "outputs": []
    },
    {
      "cell_type": "code",
      "metadata": {
        "colab_type": "code",
        "id": "P9o19SMTfl-v",
        "colab": {
          "base_uri": "https://localhost:8080/"
        },
        "outputId": "382ad893-2731-49e3-a911-4de1aaeee048"
      },
      "source": [
        "results_body_measures_annotated.head()"
      ],
      "execution_count": null,
      "outputs": [
        {
          "output_type": "execute_result",
          "data": {
            "text/html": [
              "<div>\n",
              "<style scoped>\n",
              "    .dataframe tbody tr th:only-of-type {\n",
              "        vertical-align: middle;\n",
              "    }\n",
              "\n",
              "    .dataframe tbody tr th {\n",
              "        vertical-align: top;\n",
              "    }\n",
              "\n",
              "    .dataframe thead th {\n",
              "        text-align: right;\n",
              "    }\n",
              "</style>\n",
              "<table border=\"1\" class=\"dataframe\">\n",
              "  <thead>\n",
              "    <tr style=\"text-align: right;\">\n",
              "      <th></th>\n",
              "      <th>Body_Length</th>\n",
              "      <th>Hip_Height</th>\n",
              "      <th>Hip_Width</th>\n",
              "      <th>Heart_Girth</th>\n",
              "    </tr>\n",
              "  </thead>\n",
              "  <tbody>\n",
              "    <tr>\n",
              "      <th>585216074-0.jpg</th>\n",
              "      <td>0.058128</td>\n",
              "      <td>0.050881</td>\n",
              "      <td>0.083698</td>\n",
              "      <td>0.015838</td>\n",
              "    </tr>\n",
              "    <tr>\n",
              "      <th>586290717-8.jpg</th>\n",
              "      <td>0.042164</td>\n",
              "      <td>0.084113</td>\n",
              "      <td>0.073106</td>\n",
              "      <td>0.009901</td>\n",
              "    </tr>\n",
              "    <tr>\n",
              "      <th>586290925-7.jpg</th>\n",
              "      <td>0.067637</td>\n",
              "      <td>0.055564</td>\n",
              "      <td>0.005718</td>\n",
              "      <td>0.027797</td>\n",
              "    </tr>\n",
              "    <tr>\n",
              "      <th>589454323-0.jpg</th>\n",
              "      <td>0.012839</td>\n",
              "      <td>0.143285</td>\n",
              "      <td>0.017087</td>\n",
              "      <td>0.022151</td>\n",
              "    </tr>\n",
              "    <tr>\n",
              "      <th>589454978-8.jpg</th>\n",
              "      <td>0.022090</td>\n",
              "      <td>0.057575</td>\n",
              "      <td>0.000508</td>\n",
              "      <td>0.018019</td>\n",
              "    </tr>\n",
              "  </tbody>\n",
              "</table>\n",
              "</div>"
            ],
            "text/plain": [
              "                 Body_Length  Hip_Height  Hip_Width  Heart_Girth\n",
              "585216074-0.jpg     0.058128    0.050881   0.083698     0.015838\n",
              "586290717-8.jpg     0.042164    0.084113   0.073106     0.009901\n",
              "586290925-7.jpg     0.067637    0.055564   0.005718     0.027797\n",
              "589454323-0.jpg     0.012839    0.143285   0.017087     0.022151\n",
              "589454978-8.jpg     0.022090    0.057575   0.000508     0.018019"
            ]
          },
          "metadata": {
            "tags": []
          },
          "execution_count": 91
        }
      ]
    },
    {
      "cell_type": "markdown",
      "metadata": {
        "id": "1IOjm8zVgoLo",
        "colab_type": "text"
      },
      "source": [
        "Compare the estimated and the annotated results"
      ]
    },
    {
      "cell_type": "code",
      "metadata": {
        "id": "Gvdu2j9LONFy",
        "colab_type": "code",
        "colab": {
          "base_uri": "https://localhost:8080/"
        },
        "outputId": "87e328ec-7efd-4583-d940-0f845564c722"
      },
      "source": [
        "body_measures.shape"
      ],
      "execution_count": null,
      "outputs": [
        {
          "output_type": "execute_result",
          "data": {
            "text/plain": [
              "(72, 4)"
            ]
          },
          "metadata": {
            "tags": []
          },
          "execution_count": 92
        }
      ]
    },
    {
      "cell_type": "code",
      "metadata": {
        "id": "2tEx1isrh7JF",
        "colab_type": "code",
        "colab": {
          "base_uri": "https://localhost:8080/"
        },
        "outputId": "ea700814-7cba-4792-c599-aa1e4f9b1113"
      },
      "source": [
        "body_measures_annotated.shape"
      ],
      "execution_count": null,
      "outputs": [
        {
          "output_type": "execute_result",
          "data": {
            "text/plain": [
              "(72, 4)"
            ]
          },
          "metadata": {
            "tags": []
          },
          "execution_count": 93
        }
      ]
    },
    {
      "cell_type": "code",
      "metadata": {
        "id": "IpdP-ez_h9ng",
        "colab_type": "code",
        "colab": {
          "base_uri": "https://localhost:8080/"
        },
        "outputId": "7356c4c9-0439-412a-b3c7-feb0c3e29d7d"
      },
      "source": [
        "n_images, n_bms = body_measures.shape\n",
        "\n",
        "plt.figure(figsize = [10,10])\n",
        "\n",
        "for index in range(n_bms):\n",
        "  x = np.log(body_measures[:,index])\n",
        "  y = np.log(body_measures_annotated[:,index])\n",
        "\n",
        "  correlation = np.corrcoef(x,y)[0,1].round(4)\n",
        "\n",
        "  plt.subplot(2,2,index+1)\n",
        "  \n",
        "  plt.title(\"Correlation: \" + str(correlation), fontdict = {\"fontsize\":12})\n",
        "  plt.scatter(x = x, y = y, marker = \"x\", s = 60)\n",
        "  plt.xlabel(\"Log(\" + results_body_measures.columns[index].replace(\"_\", \" \") + \")\" + \" Estimated\")\n",
        "  plt.ylabel(\"Log(\" + results_body_measures_annotated.columns[index].replace(\"_\", \" \") + \")\" + \" Estimated\")\n",
        "\n",
        "\n",
        "plt.tight_layout()\n",
        "plt.show()"
      ],
      "execution_count": null,
      "outputs": [
        {
          "output_type": "display_data",
          "data": {
            "image/png": "[encoded data removed]",
            "text/plain": [
              "<Figure size 720x720 with 4 Axes>"
            ]
          },
          "metadata": {
            "tags": []
          }
        }
      ]
    },
    {
      "cell_type": "markdown",
      "metadata": {
        "id": "OAI05UZ1aQpK",
        "colab_type": "text"
      },
      "source": [
        "### Calculate Body Measures from Estimated Keypoints (Good Images Only)\n"
      ]
    },
    {
      "cell_type": "markdown",
      "metadata": {
        "colab_type": "text",
        "id": "IFjxeDAgakvP"
      },
      "source": [
        "Load Estimated Keypoints of Good Images"
      ]
    },
    {
      "cell_type": "code",
      "metadata": {
        "colab_type": "code",
        "id": "ZTbmsatWbWiE",
        "colab": {
          "base_uri": "https://localhost:8080/"
        },
        "outputId": "739c602b-7712-4e8a-fb1c-555d08fdeeaa"
      },
      "source": [
        "estimated_keypoints_good_images = np.load(\"/content/drive/My Drive/Master/Thesis/Keypoints/estimated_keypoints_good_images.npy\")\n",
        "\n",
        "print(\"The shape of the estimated keypoints is: {}\".format(np.shape(estimated_keypoints_good_images)))"
      ],
      "execution_count": null,
      "outputs": [
        {
          "output_type": "stream",
          "text": [
            "The shape of the estimated keypoints is: (232, 2)\n"
          ],
          "name": "stdout"
        }
      ]
    },
    {
      "cell_type": "code",
      "metadata": {
        "colab_type": "code",
        "id": "aikDk6K6bWiW",
        "colab": {
          "base_uri": "https://localhost:8080/"
        },
        "outputId": "b2c2e57d-9eb8-4243-dd9a-39d11256864c"
      },
      "source": [
        "## Resize the keypoints as they are fitted on a 192 x 192 image\n",
        "adujst_width = 4032/192\n",
        "adjust_height = 3024/192\n",
        "\n",
        "print(\"Adjust the width and height by: {} and {}\".format(adujst_width, adjust_height))"
      ],
      "execution_count": null,
      "outputs": [
        {
          "output_type": "stream",
          "text": [
            "Adjust the width and height by: 21.0 and 15.75\n"
          ],
          "name": "stdout"
        }
      ]
    },
    {
      "cell_type": "code",
      "metadata": {
        "colab_type": "code",
        "id": "2adJz-n9bWig",
        "colab": {}
      },
      "source": [
        "estimated_keypoints_good_images[:,0] = estimated_keypoints_good_images[:,0]*adjust_height\n",
        "estimated_keypoints_good_images[:,1] = estimated_keypoints_good_images[:,1]*adujst_width"
      ],
      "execution_count": null,
      "outputs": []
    },
    {
      "cell_type": "code",
      "metadata": {
        "colab_type": "code",
        "id": "ZLwymvaVbWim",
        "colab": {
          "base_uri": "https://localhost:8080/"
        },
        "outputId": "39cbcaf8-3bbc-46b8-d232-412d3b0aff26"
      },
      "source": [
        "## Reshape so the data has shape: number of images x number of dimensions (xy coordinates, i.e. 2 dimensions) x number of keypoints\n",
        "estimated_keypoints_good_images = estimated_keypoints_good_images.reshape(29, 8, 2)\n",
        "\n",
        "print(\"The shape of the keypoints is: {}\".format(estimated_keypoints_good_images.shape))"
      ],
      "execution_count": null,
      "outputs": [
        {
          "output_type": "stream",
          "text": [
            "The shape of the keypoints is: (29, 8, 2)\n"
          ],
          "name": "stdout"
        }
      ]
    },
    {
      "cell_type": "markdown",
      "metadata": {
        "colab_type": "text",
        "id": "ut75CVTOakwo"
      },
      "source": [
        "Get aspects ratio"
      ]
    },
    {
      "cell_type": "code",
      "metadata": {
        "colab_type": "code",
        "id": "Ig5UdcKQakwq",
        "colab": {}
      },
      "source": [
        "## Get aspects ratio \n",
        "aspects_ratio = 3024/4032"
      ],
      "execution_count": null,
      "outputs": []
    },
    {
      "cell_type": "markdown",
      "metadata": {
        "colab_type": "text",
        "id": "D7vxe0AMakw3"
      },
      "source": [
        "Extract the depth values corresponding to the annotated keypoints"
      ]
    },
    {
      "cell_type": "code",
      "metadata": {
        "colab_type": "code",
        "id": "Dy9k2SsSakxD",
        "colab": {
          "base_uri": "https://localhost:8080/"
        },
        "outputId": "7cde21d0-5597-477b-fb0f-cfae296c5a69"
      },
      "source": [
        "n_depths, kps, coordinates = estimated_keypoints_good_images.shape\n",
        "\n",
        "depth_values_good_images = []\n",
        "\n",
        "# First Dimension: 72\n",
        "for depth in range(n_depths):\n",
        "   \n",
        "  # Get the KPx and KPy as integers\n",
        "  for kp in range(kps):\n",
        "  \n",
        "    x, y = int(estimated_keypoints_good_images[depth, kp,1]), int(estimated_keypoints_good_images[depth, kp,0])\n",
        "\n",
        "    depth_values_good_images.append(depths_good_image[depth][y][x])\n",
        "\n",
        "\n",
        "## Reshape the depth values to be number of images x keypoints\n",
        "depth_values_good_images = np.array(depth_values_good_images).reshape(n_depths,kps)\n",
        "\n",
        "print(\"The shape of the depth values corresponding to the keypoints is: {} (number of images x keypoint)\".format(np.shape(depth_values_good_images)))"
      ],
      "execution_count": null,
      "outputs": [
        {
          "output_type": "stream",
          "text": [
            "The shape of the depth values corresponding to the keypoints is: (29, 8) (number of images x keypoint)\n"
          ],
          "name": "stdout"
        }
      ]
    },
    {
      "cell_type": "markdown",
      "metadata": {
        "colab_type": "text",
        "id": "354WLI9TakxP"
      },
      "source": [
        "Calculate z-score"
      ]
    },
    {
      "cell_type": "code",
      "metadata": {
        "colab_type": "code",
        "id": "BjbzjBccakxQ",
        "colab": {}
      },
      "source": [
        "## Calculate z-score fore the different body measures\n",
        "z_scores_bl = []\n",
        "z_scores_hh = []\n",
        "z_scores_hw = []\n",
        "z_scores_hg = []\n",
        "\n",
        "for index, image in enumerate(depths_good_image):\n",
        "  z_score_bl = calculate_z_score(depth_values_good_images[index,:], 0, 1)\n",
        "  z_score_hh = calculate_z_score(depth_values_good_images[index,:], 2, 3)\n",
        "  z_score_hw = calculate_z_score(depth_values_good_images[index,:], 4, 5)\n",
        "  z_score_hg = calculate_z_score(depth_values_good_images[index,:], 6, 7)\n",
        "\n",
        "  z_scores_bl.append(z_score_bl)\n",
        "  z_scores_hh.append(z_score_hh)\n",
        "  z_scores_hw.append(z_score_hw)\n",
        "  z_scores_hg.append(z_score_hg)"
      ],
      "execution_count": null,
      "outputs": []
    },
    {
      "cell_type": "code",
      "metadata": {
        "colab_type": "code",
        "id": "zO8HnDXcakxZ",
        "colab": {
          "base_uri": "https://localhost:8080/"
        },
        "outputId": "95beb93a-a394-4836-e52c-64b5333024ca"
      },
      "source": [
        "z_scores_good_images = np.array([z_scores_bl, z_scores_hh, z_scores_hw, z_scores_hg]).transpose()\n",
        "\n",
        "print(\"The z-score matrix has the following shape: {}\".format(z_scores_good_images.shape))"
      ],
      "execution_count": null,
      "outputs": [
        {
          "output_type": "stream",
          "text": [
            "The z-score matrix has the following shape: (29, 4)\n"
          ],
          "name": "stdout"
        }
      ]
    },
    {
      "cell_type": "markdown",
      "metadata": {
        "colab_type": "text",
        "id": "vC0DXfXBakxj"
      },
      "source": [
        "Calculate the XY needed for distance calculation"
      ]
    },
    {
      "cell_type": "code",
      "metadata": {
        "colab_type": "code",
        "id": "9zqbb4kYakxn",
        "colab": {
          "base_uri": "https://localhost:8080/"
        },
        "outputId": "31d1f732-fbf7-4b8f-cb99-f65ba2f8f7c8"
      },
      "source": [
        "xys_bl = []\n",
        "xys_hh = []\n",
        "xys_hw = []\n",
        "xys_hg = []\n",
        "\n",
        "for index, image in enumerate(depths_good_image):\n",
        "  xy_bl = calculations(AspectRatio= 0.75, radian= radians[0], keypoint_depth_value = depth_values_good_images[index], estimated_keypoints=estimated_keypoints_good_images[index], p1 = 0, p2 = 1)\n",
        "  xy_hh = calculations(AspectRatio= 0.75, radian= radians[0], keypoint_depth_value = depth_values_good_images[index], estimated_keypoints=estimated_keypoints_good_images[index], p1 = 2, p2 = 3)\n",
        "  xy_hw = calculations(AspectRatio= 0.75, radian= radians[0], keypoint_depth_value = depth_values_good_images[index], estimated_keypoints=estimated_keypoints_good_images[index], p1 = 4, p2 = 5)\n",
        "  xy_hg = calculations(AspectRatio= 0.75, radian= radians[0], keypoint_depth_value = depth_values_good_images[index], estimated_keypoints=estimated_keypoints_good_images[index], p1 = 6, p2 = 7)\n",
        "\n",
        "  xys_bl.append(xy_bl)\n",
        "  xys_hh.append(xy_hh)\n",
        "  xys_hw.append(xy_hw)\n",
        "  xys_hg.append(xy_hg)\n",
        "\n",
        "\n",
        "xys_good_images = np.array([xys_bl, xys_hh, xys_hw, xys_hg]).swapaxes(0,1)\n",
        "\n",
        "print(\"The shape of the resulting array with x and y is: {}, i.e. number of images x number of body measures x xy coordinates\".format(xys_good_images.shape))"
      ],
      "execution_count": null,
      "outputs": [
        {
          "output_type": "stream",
          "text": [
            "The shape of the resulting array with x and y is: (29, 4, 2), i.e. number of images x number of body measures x xy coordinates\n"
          ],
          "name": "stdout"
        }
      ]
    },
    {
      "cell_type": "code",
      "metadata": {
        "colab_type": "code",
        "id": "vAMz8D2Dakxv",
        "colab": {}
      },
      "source": [
        "n_images, n_bms = z_scores_good_images.shape\n",
        "\n",
        "body_measures_good_images = []\n",
        "\n",
        "## Iterate through images and keypoints\n",
        "\n",
        "for image in range(n_images):\n",
        "\n",
        "  for bm in range(n_bms):\n",
        "\n",
        "    iter_xys = xys_good_images[image, bm]\n",
        "\n",
        "    z_score = z_scores_good_images[image, bm]\n",
        "\n",
        "    body_measure = calculate_body_measure(iter_xys, z_score)\n",
        "\n",
        "    body_measures_good_images.append(body_measure)"
      ],
      "execution_count": null,
      "outputs": []
    },
    {
      "cell_type": "code",
      "metadata": {
        "colab_type": "code",
        "id": "DQ7p_kYnakx1",
        "colab": {}
      },
      "source": [
        "body_measures_good_images = np.array(body_measures_good_images).reshape(29,4)"
      ],
      "execution_count": null,
      "outputs": []
    },
    {
      "cell_type": "code",
      "metadata": {
        "colab_type": "code",
        "id": "CkItc5z6akx-",
        "colab": {}
      },
      "source": [
        "results_body_measures_good_images = pd.DataFrame(body_measures_good_images,\n",
        "                                               index = good_images,\n",
        "                                               columns = [\"Body_Length\", \"Hip_Height\", \"Hip_Width\", \"Heart_Girth\"])"
      ],
      "execution_count": null,
      "outputs": []
    },
    {
      "cell_type": "code",
      "metadata": {
        "colab_type": "code",
        "id": "qfANmDxzakyG",
        "colab": {
          "base_uri": "https://localhost:8080/"
        },
        "outputId": "dedc69c6-baf8-4eb1-ea58-ebf6fc34e955"
      },
      "source": [
        "results_body_measures_good_images.head()"
      ],
      "execution_count": null,
      "outputs": [
        {
          "output_type": "execute_result",
          "data": {
            "text/html": [
              "<div>\n",
              "<style scoped>\n",
              "    .dataframe tbody tr th:only-of-type {\n",
              "        vertical-align: middle;\n",
              "    }\n",
              "\n",
              "    .dataframe tbody tr th {\n",
              "        vertical-align: top;\n",
              "    }\n",
              "\n",
              "    .dataframe thead th {\n",
              "        text-align: right;\n",
              "    }\n",
              "</style>\n",
              "<table border=\"1\" class=\"dataframe\">\n",
              "  <thead>\n",
              "    <tr style=\"text-align: right;\">\n",
              "      <th></th>\n",
              "      <th>Body_Length</th>\n",
              "      <th>Hip_Height</th>\n",
              "      <th>Hip_Width</th>\n",
              "      <th>Heart_Girth</th>\n",
              "    </tr>\n",
              "  </thead>\n",
              "  <tbody>\n",
              "    <tr>\n",
              "      <th>586290925-7.jpg</th>\n",
              "      <td>0.128298</td>\n",
              "      <td>0.127468</td>\n",
              "      <td>0.005062</td>\n",
              "      <td>0.156947</td>\n",
              "    </tr>\n",
              "    <tr>\n",
              "      <th>589454964-0.jpg</th>\n",
              "      <td>0.007178</td>\n",
              "      <td>0.027408</td>\n",
              "      <td>0.210110</td>\n",
              "      <td>0.059731</td>\n",
              "    </tr>\n",
              "    <tr>\n",
              "      <th>589455079-7.jpg</th>\n",
              "      <td>0.050523</td>\n",
              "      <td>0.003476</td>\n",
              "      <td>0.023633</td>\n",
              "      <td>0.073236</td>\n",
              "    </tr>\n",
              "    <tr>\n",
              "      <th>591158798-0.jpg</th>\n",
              "      <td>0.075787</td>\n",
              "      <td>0.010610</td>\n",
              "      <td>0.055035</td>\n",
              "      <td>0.000007</td>\n",
              "    </tr>\n",
              "    <tr>\n",
              "      <th>591159136-9.jpg</th>\n",
              "      <td>0.081613</td>\n",
              "      <td>0.008128</td>\n",
              "      <td>0.052373</td>\n",
              "      <td>0.000005</td>\n",
              "    </tr>\n",
              "  </tbody>\n",
              "</table>\n",
              "</div>"
            ],
            "text/plain": [
              "                 Body_Length  Hip_Height  Hip_Width  Heart_Girth\n",
              "586290925-7.jpg     0.128298    0.127468   0.005062     0.156947\n",
              "589454964-0.jpg     0.007178    0.027408   0.210110     0.059731\n",
              "589455079-7.jpg     0.050523    0.003476   0.023633     0.073236\n",
              "591158798-0.jpg     0.075787    0.010610   0.055035     0.000007\n",
              "591159136-9.jpg     0.081613    0.008128   0.052373     0.000005"
            ]
          },
          "metadata": {
            "tags": []
          },
          "execution_count": 38
        }
      ]
    },
    {
      "cell_type": "markdown",
      "metadata": {
        "id": "6BPTx95IhHWH",
        "colab_type": "text"
      },
      "source": [
        "## 2) Carcass Weight Estimation"
      ]
    },
    {
      "cell_type": "markdown",
      "metadata": {
        "id": "Bk_aq4BaqZON",
        "colab_type": "text"
      },
      "source": [
        "### Load the weights"
      ]
    },
    {
      "cell_type": "code",
      "metadata": {
        "id": "jnppS4nnBioB",
        "colab_type": "code",
        "colab": {}
      },
      "source": [
        "path_weights = \"/content/drive/My Drive/Master/Thesis/weights_labels.csv\"\n",
        "\n",
        "weights_data = pd.read_csv(path_weights, \n",
        "                           header = 0,\n",
        "                           decimal = \",\")\n",
        "\n",
        "weights_data.index = weights_data.loc[:,\"Image\"]\n",
        "\n",
        "weights_data = weights_data.drop(axis = 1,columns= [\"Image\", \"Dir\", \"BodyLength\"])\n",
        "\n",
        "weights_data.loc[:,\"Weight\"] = weights_data.loc[:,\"Weight\"].astype(np.float)"
      ],
      "execution_count": null,
      "outputs": []
    },
    {
      "cell_type": "code",
      "metadata": {
        "id": "kHbFoBHsFvEE",
        "colab_type": "code",
        "colab": {
          "base_uri": "https://localhost:8080/"
        },
        "outputId": "104e2c4c-ccdf-46d8-c49d-86e48943230e"
      },
      "source": [
        "weights_data.head()"
      ],
      "execution_count": null,
      "outputs": [
        {
          "output_type": "execute_result",
          "data": {
            "text/html": [
              "<div>\n",
              "<style scoped>\n",
              "    .dataframe tbody tr th:only-of-type {\n",
              "        vertical-align: middle;\n",
              "    }\n",
              "\n",
              "    .dataframe tbody tr th {\n",
              "        vertical-align: top;\n",
              "    }\n",
              "\n",
              "    .dataframe thead th {\n",
              "        text-align: right;\n",
              "    }\n",
              "</style>\n",
              "<table border=\"1\" class=\"dataframe\">\n",
              "  <thead>\n",
              "    <tr style=\"text-align: right;\">\n",
              "      <th></th>\n",
              "      <th>ID</th>\n",
              "      <th>Weight</th>\n",
              "      <th>Age</th>\n",
              "    </tr>\n",
              "    <tr>\n",
              "      <th>Image</th>\n",
              "      <th></th>\n",
              "      <th></th>\n",
              "      <th></th>\n",
              "    </tr>\n",
              "  </thead>\n",
              "  <tbody>\n",
              "    <tr>\n",
              "      <th>591158734-6.jpg</th>\n",
              "      <td>1360</td>\n",
              "      <td>538.8</td>\n",
              "      <td>615</td>\n",
              "    </tr>\n",
              "    <tr>\n",
              "      <th>591158757-1.jpg</th>\n",
              "      <td>2799</td>\n",
              "      <td>589.0</td>\n",
              "      <td>535</td>\n",
              "    </tr>\n",
              "    <tr>\n",
              "      <th>591158798-0.jpg</th>\n",
              "      <td>4952</td>\n",
              "      <td>461.6</td>\n",
              "      <td>556</td>\n",
              "    </tr>\n",
              "    <tr>\n",
              "      <th>591158836-1.jpg</th>\n",
              "      <td>2795</td>\n",
              "      <td>532.0</td>\n",
              "      <td>542</td>\n",
              "    </tr>\n",
              "    <tr>\n",
              "      <th>591158931-9.jpg</th>\n",
              "      <td>2799</td>\n",
              "      <td>589.0</td>\n",
              "      <td>535</td>\n",
              "    </tr>\n",
              "  </tbody>\n",
              "</table>\n",
              "</div>"
            ],
            "text/plain": [
              "                   ID  Weight  Age\n",
              "Image                             \n",
              "591158734-6.jpg  1360   538.8  615\n",
              "591158757-1.jpg  2799   589.0  535\n",
              "591158798-0.jpg  4952   461.6  556\n",
              "591158836-1.jpg  2795   532.0  542\n",
              "591158931-9.jpg  2799   589.0  535"
            ]
          },
          "metadata": {
            "tags": []
          },
          "execution_count": 42
        }
      ]
    },
    {
      "cell_type": "markdown",
      "metadata": {
        "id": "5fpOZwOLBcQc",
        "colab_type": "text"
      },
      "source": [
        "Descriptive Analysis"
      ]
    },
    {
      "cell_type": "code",
      "metadata": {
        "id": "1hO9wXAJBdr2",
        "colab_type": "code",
        "colab": {
          "base_uri": "https://localhost:8080/"
        },
        "outputId": "c808611c-074b-4874-cc50-dd2a891d44ac"
      },
      "source": [
        "fontdic = {\"fontsize\":12}\n",
        "plt.figure(figsize = [5,5])\n",
        "plt.title(\"Histogram of Cow Carcass Weights\", fontdict=fontdic)\n",
        "plt.xlabel(\"Carcass Weight\", fontdic)\n",
        "plt.ylabel(\"Count\", fontdic)\n",
        "plt.axvline(weights_data[\"Weight\"].mean(), c = \"r\", linestyle = \"--\")\n",
        "plt.axvline(weights_data[\"Weight\"].mean() + weights_data[\"Weight\"].std(), c = \"g\", linestyle = \"--\")\n",
        "plt.axvline(weights_data[\"Weight\"].mean() - weights_data[\"Weight\"].std(), c = \"g\", linestyle = \"--\")\n",
        "plt.hist(weights_data[\"Weight\"])\n",
        "plt.legend([\"Mean\", \"Mean +/- SD\"], bbox_to_anchor=(1.05, 1), loc='upper left', fontsize = 12)\n",
        "plt.show()\n"
      ],
      "execution_count": null,
      "outputs": [
        {
          "output_type": "display_data",
          "data": {
            "image/png": "[encoded data removed]",
            "text/plain": [
              "<Figure size 360x360 with 1 Axes>"
            ]
          },
          "metadata": {
            "tags": [],
            "needs_background": "light"
          }
        }
      ]
    },
    {
      "cell_type": "code",
      "metadata": {
        "id": "7km2RwZsC4Ei",
        "colab_type": "code",
        "colab": {}
      },
      "source": [
        "mean_weight = weights_data[\"Weight\"].mean()\n",
        "median_weight = weights_data[\"Weight\"].median()\n",
        "sd_weight = weights_data[\"Weight\"].std()\n",
        "max_weight = weights_data[\"Weight\"].max()\n",
        "min_weight = weights_data[\"Weight\"].min()\n",
        "\n",
        "summary_stats_weight = np.array([mean_weight, median_weight, sd_weight, max_weight, min_weight]).round(2)"
      ],
      "execution_count": null,
      "outputs": []
    },
    {
      "cell_type": "code",
      "metadata": {
        "id": "whGuOnd-Bduf",
        "colab_type": "code",
        "colab": {
          "base_uri": "https://localhost:8080/"
        },
        "outputId": "08245881-a720-4c43-bc19-d99b9fce328b"
      },
      "source": [
        "index = [\"Mean\", \"Median\", \"SD\", \"Max\", \"Min\"]\n",
        "\n",
        "summary_stats_weight = pd.DataFrame(summary_stats_weight, index = index).transpose()\n",
        "\n",
        "summary_stats_weight.head()"
      ],
      "execution_count": null,
      "outputs": [
        {
          "output_type": "execute_result",
          "data": {
            "text/html": [
              "<div>\n",
              "<style scoped>\n",
              "    .dataframe tbody tr th:only-of-type {\n",
              "        vertical-align: middle;\n",
              "    }\n",
              "\n",
              "    .dataframe tbody tr th {\n",
              "        vertical-align: top;\n",
              "    }\n",
              "\n",
              "    .dataframe thead th {\n",
              "        text-align: right;\n",
              "    }\n",
              "</style>\n",
              "<table border=\"1\" class=\"dataframe\">\n",
              "  <thead>\n",
              "    <tr style=\"text-align: right;\">\n",
              "      <th></th>\n",
              "      <th>Mean</th>\n",
              "      <th>Median</th>\n",
              "      <th>SD</th>\n",
              "      <th>Max</th>\n",
              "      <th>Min</th>\n",
              "    </tr>\n",
              "  </thead>\n",
              "  <tbody>\n",
              "    <tr>\n",
              "      <th>0</th>\n",
              "      <td>557.18</td>\n",
              "      <td>573.2</td>\n",
              "      <td>48.57</td>\n",
              "      <td>663.0</td>\n",
              "      <td>447.8</td>\n",
              "    </tr>\n",
              "  </tbody>\n",
              "</table>\n",
              "</div>"
            ],
            "text/plain": [
              "     Mean  Median     SD    Max    Min\n",
              "0  557.18   573.2  48.57  663.0  447.8"
            ]
          },
          "metadata": {
            "tags": []
          },
          "execution_count": 45
        }
      ]
    },
    {
      "cell_type": "code",
      "metadata": {
        "id": "UmofhmeEBdps",
        "colab_type": "code",
        "colab": {}
      },
      "source": [
        "summary_stats_weight.to_csv(\"/content/drive/My Drive/Master/Thesis/summary_stats_weight.csv\")"
      ],
      "execution_count": null,
      "outputs": []
    },
    {
      "cell_type": "markdown",
      "metadata": {
        "id": "MRg07zxqn6rm",
        "colab_type": "text"
      },
      "source": [
        "### Estimated Body Measures (All Images)"
      ]
    },
    {
      "cell_type": "markdown",
      "metadata": {
        "id": "7b0LZ-GqHK3X",
        "colab_type": "text"
      },
      "source": [
        "Merge the body measures to the weights"
      ]
    },
    {
      "cell_type": "code",
      "metadata": {
        "id": "m-qgSO7_HVeP",
        "colab_type": "code",
        "colab": {}
      },
      "source": [
        "## Both data frames have the image names as index -- Merge can be done simply with the pd.DataFrame.join() w/o other specs\n",
        "\n",
        "data = weights_data.join(results_body_measures)"
      ],
      "execution_count": null,
      "outputs": []
    },
    {
      "cell_type": "code",
      "metadata": {
        "id": "aYMmvSHYHwSI",
        "colab_type": "code",
        "colab": {
          "base_uri": "https://localhost:8080/",
          "height": 238
        },
        "outputId": "76a1e90e-f6d7-4f50-bb4e-f329577e9445"
      },
      "source": [
        "data.head()"
      ],
      "execution_count": null,
      "outputs": [
        {
          "output_type": "execute_result",
          "data": {
            "text/html": [
              "<div>\n",
              "<style scoped>\n",
              "    .dataframe tbody tr th:only-of-type {\n",
              "        vertical-align: middle;\n",
              "    }\n",
              "\n",
              "    .dataframe tbody tr th {\n",
              "        vertical-align: top;\n",
              "    }\n",
              "\n",
              "    .dataframe thead th {\n",
              "        text-align: right;\n",
              "    }\n",
              "</style>\n",
              "<table border=\"1\" class=\"dataframe\">\n",
              "  <thead>\n",
              "    <tr style=\"text-align: right;\">\n",
              "      <th></th>\n",
              "      <th>ID</th>\n",
              "      <th>Weight</th>\n",
              "      <th>Age</th>\n",
              "      <th>Body_Length</th>\n",
              "      <th>Hip_Height</th>\n",
              "      <th>Hip_Width</th>\n",
              "      <th>Heart_Girth</th>\n",
              "    </tr>\n",
              "    <tr>\n",
              "      <th>Image</th>\n",
              "      <th></th>\n",
              "      <th></th>\n",
              "      <th></th>\n",
              "      <th></th>\n",
              "      <th></th>\n",
              "      <th></th>\n",
              "      <th></th>\n",
              "    </tr>\n",
              "  </thead>\n",
              "  <tbody>\n",
              "    <tr>\n",
              "      <th>591158734-6.jpg</th>\n",
              "      <td>1360</td>\n",
              "      <td>538.8</td>\n",
              "      <td>615</td>\n",
              "      <td>0.000050</td>\n",
              "      <td>0.000408</td>\n",
              "      <td>0.000363</td>\n",
              "      <td>0.000746</td>\n",
              "    </tr>\n",
              "    <tr>\n",
              "      <th>591158757-1.jpg</th>\n",
              "      <td>2799</td>\n",
              "      <td>589.0</td>\n",
              "      <td>535</td>\n",
              "      <td>0.000053</td>\n",
              "      <td>0.000481</td>\n",
              "      <td>0.000416</td>\n",
              "      <td>0.000861</td>\n",
              "    </tr>\n",
              "    <tr>\n",
              "      <th>591158798-0.jpg</th>\n",
              "      <td>4952</td>\n",
              "      <td>461.6</td>\n",
              "      <td>556</td>\n",
              "      <td>0.000056</td>\n",
              "      <td>0.000699</td>\n",
              "      <td>0.000650</td>\n",
              "      <td>0.000846</td>\n",
              "    </tr>\n",
              "    <tr>\n",
              "      <th>591158836-1.jpg</th>\n",
              "      <td>2795</td>\n",
              "      <td>532.0</td>\n",
              "      <td>542</td>\n",
              "      <td>0.000341</td>\n",
              "      <td>0.000762</td>\n",
              "      <td>0.001502</td>\n",
              "      <td>0.001068</td>\n",
              "    </tr>\n",
              "    <tr>\n",
              "      <th>591158931-9.jpg</th>\n",
              "      <td>2799</td>\n",
              "      <td>589.0</td>\n",
              "      <td>535</td>\n",
              "      <td>0.000039</td>\n",
              "      <td>0.003142</td>\n",
              "      <td>0.002856</td>\n",
              "      <td>0.000631</td>\n",
              "    </tr>\n",
              "  </tbody>\n",
              "</table>\n",
              "</div>"
            ],
            "text/plain": [
              "                   ID  Weight  Age  ...  Hip_Height  Hip_Width  Heart_Girth\n",
              "Image                               ...                                    \n",
              "591158734-6.jpg  1360   538.8  615  ...    0.000408   0.000363     0.000746\n",
              "591158757-1.jpg  2799   589.0  535  ...    0.000481   0.000416     0.000861\n",
              "591158798-0.jpg  4952   461.6  556  ...    0.000699   0.000650     0.000846\n",
              "591158836-1.jpg  2795   532.0  542  ...    0.000762   0.001502     0.001068\n",
              "591158931-9.jpg  2799   589.0  535  ...    0.003142   0.002856     0.000631\n",
              "\n",
              "[5 rows x 7 columns]"
            ]
          },
          "metadata": {
            "tags": []
          },
          "execution_count": 98
        }
      ]
    },
    {
      "cell_type": "code",
      "metadata": {
        "id": "NK_kLxStHxkX",
        "colab_type": "code",
        "colab": {
          "base_uri": "https://localhost:8080/",
          "height": 35
        },
        "outputId": "231e6711-f07b-4cf7-da4b-d1d26c54fd88"
      },
      "source": [
        "print(\"The resulting data frame has {} columns and {} rows.\".format(data.shape[1], data.shape[0]))"
      ],
      "execution_count": null,
      "outputs": [
        {
          "output_type": "stream",
          "text": [
            "The resulting data frame has 7 columns and 50 rows.\n"
          ],
          "name": "stdout"
        }
      ]
    },
    {
      "cell_type": "markdown",
      "metadata": {
        "id": "ET10aHk9amca",
        "colab_type": "text"
      },
      "source": [
        "Descriptive Analysis"
      ]
    },
    {
      "cell_type": "code",
      "metadata": {
        "id": "2LT2sJeKaol_",
        "colab_type": "code",
        "colab": {
          "base_uri": "https://localhost:8080/",
          "height": 729
        },
        "outputId": "8085998d-dc16-4cf0-9e32-40bc6ab245ee"
      },
      "source": [
        "plt.figure(figsize = [10,10])\n",
        "\n",
        "for index, column in enumerate(data.columns[3:]):\n",
        "  plt.subplot(2,2,index+1)\n",
        "  plt.xlabel(\"Log(\" + column.replace(\"_\", \" \") + \")\", fontsize = 12)\n",
        "  plt.ylabel(\"Carcass Weight\", fontsize = 12)\n",
        "  plt.scatter(x = np.log(data.loc[:,column]), y = data.loc[:,\"Weight\"], s = 60, marker = \"x\")\n",
        "\n",
        "plt.tight_layout()\n",
        "plt.show()"
      ],
      "execution_count": null,
      "outputs": [
        {
          "output_type": "display_data",
          "data": {
            "image/png": "[encoded data removed]",
            "text/plain": [
              "<Figure size 720x720 with 4 Axes>"
            ]
          },
          "metadata": {
            "tags": []
          }
        }
      ]
    },
    {
      "cell_type": "markdown",
      "metadata": {
        "id": "irrHgaUzIP1b",
        "colab_type": "text"
      },
      "source": [
        "Standardise and split the data"
      ]
    },
    {
      "cell_type": "code",
      "metadata": {
        "id": "ptY2rKasIo43",
        "colab_type": "code",
        "colab": {}
      },
      "source": [
        "X = data.loc[:,data.columns[3:]]\n",
        "y = data.loc[:, \"Weight\"]"
      ],
      "execution_count": null,
      "outputs": []
    },
    {
      "cell_type": "code",
      "metadata": {
        "id": "HT3k3qeUJOOA",
        "colab_type": "code",
        "colab": {}
      },
      "source": [
        "X = scale(X)"
      ],
      "execution_count": null,
      "outputs": []
    },
    {
      "cell_type": "code",
      "metadata": {
        "id": "NBH4kPZLINip",
        "colab_type": "code",
        "colab": {}
      },
      "source": [
        "X_train, X_test, y_train, y_test = train_test_split(X, y, test_size = 0.2)"
      ],
      "execution_count": null,
      "outputs": []
    },
    {
      "cell_type": "markdown",
      "metadata": {
        "id": "dShlBs8vI7kI",
        "colab_type": "text"
      },
      "source": [
        "Use **SVR** to estimate weight"
      ]
    },
    {
      "cell_type": "code",
      "metadata": {
        "id": "QrYnWh1hI7DX",
        "colab_type": "code",
        "colab": {}
      },
      "source": [
        "svr = SVR()\n",
        "\n",
        "svr_fit = svr.fit(X_train, y_train)\n",
        "\n",
        "svr_predict = svr_fit.predict(X_test)\n",
        "\n",
        "svr_predict_train = svr_fit.predict(X_train)"
      ],
      "execution_count": null,
      "outputs": []
    },
    {
      "cell_type": "markdown",
      "metadata": {
        "id": "ClyuPTfxjUwG",
        "colab_type": "text"
      },
      "source": [
        "Use **Linear Regression** to estimate weight"
      ]
    },
    {
      "cell_type": "code",
      "metadata": {
        "id": "PDK065IEjUJz",
        "colab_type": "code",
        "colab": {}
      },
      "source": [
        "lm = LinearRegression()\n",
        "\n",
        "lm_fit = lm.fit(X_train, y_train)\n",
        "\n",
        "lm_predict = lm_fit.predict(X_test)\n",
        "\n",
        "lm_predict_train = lm_fit.predict(X_train)"
      ],
      "execution_count": null,
      "outputs": []
    },
    {
      "cell_type": "markdown",
      "metadata": {
        "id": "-Duiyr92n-4S",
        "colab_type": "text"
      },
      "source": [
        "### Annotated Body Measures"
      ]
    },
    {
      "cell_type": "code",
      "metadata": {
        "id": "B9vTxUN2oBqe",
        "colab_type": "code",
        "colab": {}
      },
      "source": [
        "data_annotated = weights_data.join(results_body_measures_annotated)"
      ],
      "execution_count": null,
      "outputs": []
    },
    {
      "cell_type": "code",
      "metadata": {
        "id": "pKeWGCAHoBxi",
        "colab_type": "code",
        "colab": {
          "base_uri": "https://localhost:8080/"
        },
        "outputId": "588374f1-60c4-497f-d420-94155e7297d4"
      },
      "source": [
        "plt.figure(figsize = [10,10])\n",
        "\n",
        "for index, column in enumerate(data_annotated.columns[3:]):\n",
        "  plt.subplot(2,2,index+1)\n",
        "  plt.xlabel(\"Log(\" + column.replace(\"_\", \" \") + \")\", fontsize = 12)\n",
        "  plt.ylabel(\"Carcass Weight\", fontsize = 12)\n",
        "  plt.scatter(x = np.log(data_annotated.loc[:,column]), y = data_annotated.loc[:,\"Weight\"], s = 60, marker = \"x\")\n",
        "\n",
        "plt.tight_layout()\n",
        "plt.show()"
      ],
      "execution_count": null,
      "outputs": [
        {
          "output_type": "display_data",
          "data": {
            "image/png": "[encoded data removed]",
            "text/plain": [
              "<Figure size 720x720 with 4 Axes>"
            ]
          },
          "metadata": {
            "tags": []
          }
        }
      ]
    },
    {
      "cell_type": "code",
      "metadata": {
        "id": "La9LGWpDoBvh",
        "colab_type": "code",
        "colab": {}
      },
      "source": [
        "X = data_annotated.loc[:,data_annotated.columns[3:]]\n",
        "y = data_annotated.loc[:, \"Weight\"]"
      ],
      "execution_count": null,
      "outputs": []
    },
    {
      "cell_type": "code",
      "metadata": {
        "id": "l1lqx9cLoBtq",
        "colab_type": "code",
        "colab": {}
      },
      "source": [
        "X = scale(X)"
      ],
      "execution_count": null,
      "outputs": []
    },
    {
      "cell_type": "code",
      "metadata": {
        "id": "EAfRnr5EogOj",
        "colab_type": "code",
        "colab": {}
      },
      "source": [
        "X_train_annotated, X_test_annotated, y_train_annotated, y_test_annotated = train_test_split(X, y, test_size = 0.2)"
      ],
      "execution_count": null,
      "outputs": []
    },
    {
      "cell_type": "code",
      "metadata": {
        "id": "W4RoLbTEoil8",
        "colab_type": "code",
        "colab": {}
      },
      "source": [
        "svr_annotated = SVR()\n",
        "\n",
        "svr_annotated_fit = svr_annotated.fit(X_train_annotated, y_train_annotated)\n",
        "\n",
        "svr_annotated_predict = svr_annotated_fit.predict(X_test_annotated)\n",
        "\n",
        "svr_annotated_predict_train = svr_annotated_fit.predict(X_train_annotated)"
      ],
      "execution_count": null,
      "outputs": []
    },
    {
      "cell_type": "code",
      "metadata": {
        "id": "u-htv7xKoo6v",
        "colab_type": "code",
        "colab": {}
      },
      "source": [
        "lm_annotated = LinearRegression()\n",
        "\n",
        "lm_annotated_fit = lm_annotated.fit(X_train_annotated, y_train_annotated)\n",
        "\n",
        "lm_annotated_predict = lm_annotated_fit.predict(X_test_annotated)\n",
        "\n",
        "lm_annotated_predict_train = lm_annotated_fit.predict(X_train_annotated)"
      ],
      "execution_count": null,
      "outputs": []
    },
    {
      "cell_type": "markdown",
      "metadata": {
        "id": "SIvRauxdp6VA",
        "colab_type": "text"
      },
      "source": [
        "### Estimated Body Measures (Good Images Only)"
      ]
    },
    {
      "cell_type": "code",
      "metadata": {
        "colab_type": "code",
        "id": "t0-DICDLqo5S",
        "colab": {}
      },
      "source": [
        "## Both data frames have the image names as index -- Merge can be done simply with the pd.DataFrame.join() w/o other specs\n",
        "\n",
        "data_good_images = weights_data.join(results_body_measures_good_images).dropna()"
      ],
      "execution_count": null,
      "outputs": []
    },
    {
      "cell_type": "code",
      "metadata": {
        "colab_type": "code",
        "id": "BkZNPuxlqo5k",
        "colab": {
          "base_uri": "https://localhost:8080/"
        },
        "outputId": "2a4e85ab-aa0d-44c5-c88b-7385b533c09a"
      },
      "source": [
        "data_good_images.head()"
      ],
      "execution_count": null,
      "outputs": [
        {
          "output_type": "execute_result",
          "data": {
            "text/html": [
              "<div>\n",
              "<style scoped>\n",
              "    .dataframe tbody tr th:only-of-type {\n",
              "        vertical-align: middle;\n",
              "    }\n",
              "\n",
              "    .dataframe tbody tr th {\n",
              "        vertical-align: top;\n",
              "    }\n",
              "\n",
              "    .dataframe thead th {\n",
              "        text-align: right;\n",
              "    }\n",
              "</style>\n",
              "<table border=\"1\" class=\"dataframe\">\n",
              "  <thead>\n",
              "    <tr style=\"text-align: right;\">\n",
              "      <th></th>\n",
              "      <th>ID</th>\n",
              "      <th>Weight</th>\n",
              "      <th>Age</th>\n",
              "      <th>Body_Length</th>\n",
              "      <th>Hip_Height</th>\n",
              "      <th>Hip_Width</th>\n",
              "      <th>Heart_Girth</th>\n",
              "    </tr>\n",
              "    <tr>\n",
              "      <th>Image</th>\n",
              "      <th></th>\n",
              "      <th></th>\n",
              "      <th></th>\n",
              "      <th></th>\n",
              "      <th></th>\n",
              "      <th></th>\n",
              "      <th></th>\n",
              "    </tr>\n",
              "  </thead>\n",
              "  <tbody>\n",
              "    <tr>\n",
              "      <th>591158798-0.jpg</th>\n",
              "      <td>4952</td>\n",
              "      <td>461.6</td>\n",
              "      <td>556</td>\n",
              "      <td>0.075787</td>\n",
              "      <td>0.010610</td>\n",
              "      <td>0.055035</td>\n",
              "      <td>0.000007</td>\n",
              "    </tr>\n",
              "    <tr>\n",
              "      <th>591159136-9.jpg</th>\n",
              "      <td>8920</td>\n",
              "      <td>447.8</td>\n",
              "      <td>567</td>\n",
              "      <td>0.081613</td>\n",
              "      <td>0.008128</td>\n",
              "      <td>0.052373</td>\n",
              "      <td>0.000005</td>\n",
              "    </tr>\n",
              "    <tr>\n",
              "      <th>591159161-5.jpg</th>\n",
              "      <td>8933</td>\n",
              "      <td>481.2</td>\n",
              "      <td>546</td>\n",
              "      <td>0.039977</td>\n",
              "      <td>0.026273</td>\n",
              "      <td>0.000000</td>\n",
              "      <td>0.000016</td>\n",
              "    </tr>\n",
              "    <tr>\n",
              "      <th>591159238-0.jpg</th>\n",
              "      <td>8933</td>\n",
              "      <td>481.2</td>\n",
              "      <td>546</td>\n",
              "      <td>0.012736</td>\n",
              "      <td>0.012736</td>\n",
              "      <td>0.000799</td>\n",
              "      <td>0.000004</td>\n",
              "    </tr>\n",
              "    <tr>\n",
              "      <th>591159277-4.jpg</th>\n",
              "      <td>745</td>\n",
              "      <td>581.8</td>\n",
              "      <td>537</td>\n",
              "      <td>0.000003</td>\n",
              "      <td>0.000004</td>\n",
              "      <td>0.071419</td>\n",
              "      <td>0.000000</td>\n",
              "    </tr>\n",
              "  </tbody>\n",
              "</table>\n",
              "</div>"
            ],
            "text/plain": [
              "                   ID  Weight  Age  ...  Hip_Height  Hip_Width  Heart_Girth\n",
              "Image                               ...                                    \n",
              "591158798-0.jpg  4952   461.6  556  ...    0.010610   0.055035     0.000007\n",
              "591159136-9.jpg  8920   447.8  567  ...    0.008128   0.052373     0.000005\n",
              "591159161-5.jpg  8933   481.2  546  ...    0.026273   0.000000     0.000016\n",
              "591159238-0.jpg  8933   481.2  546  ...    0.012736   0.000799     0.000004\n",
              "591159277-4.jpg   745   581.8  537  ...    0.000004   0.071419     0.000000\n",
              "\n",
              "[5 rows x 7 columns]"
            ]
          },
          "metadata": {
            "tags": []
          },
          "execution_count": 48
        }
      ]
    },
    {
      "cell_type": "code",
      "metadata": {
        "colab_type": "code",
        "id": "1lSmZFNLqo5x",
        "colab": {
          "base_uri": "https://localhost:8080/"
        },
        "outputId": "42194ecd-db26-4cd8-b067-647a576a935b"
      },
      "source": [
        "print(\"The resulting data frame has {} columns and {} rows.\".format(data_good_images.shape[1], data_good_images.shape[0]))"
      ],
      "execution_count": null,
      "outputs": [
        {
          "output_type": "stream",
          "text": [
            "The resulting data frame has 7 columns and 26 rows.\n"
          ],
          "name": "stdout"
        }
      ]
    },
    {
      "cell_type": "markdown",
      "metadata": {
        "colab_type": "text",
        "id": "7D_fs6Uoq_5y"
      },
      "source": [
        "Descriptive Analysis"
      ]
    },
    {
      "cell_type": "code",
      "metadata": {
        "colab_type": "code",
        "id": "_msbxxPyq_56",
        "colab": {
          "base_uri": "https://localhost:8080/"
        },
        "outputId": "626f8f45-1578-49cf-c622-055b934ae24c"
      },
      "source": [
        "plt.figure(figsize = [10,10])\n",
        "\n",
        "for index, column in enumerate(data_good_images.columns[3:]):\n",
        "  plt.subplot(2,2,index+1)\n",
        "  plt.xlabel(\"Log(\" + column.replace(\"_\", \" \") + \")\", fontsize = 12)\n",
        "  plt.ylabel(\"Carcass Weight\", fontsize = 12)\n",
        "  plt.scatter(x = np.log(data_good_images.loc[:,column]), y = data_good_images.loc[:,\"Weight\"], s = 60, marker = \"x\")\n",
        "\n",
        "plt.tight_layout()\n",
        "plt.show()"
      ],
      "execution_count": null,
      "outputs": [
        {
          "output_type": "stream",
          "text": [
            "/usr/local/lib/python3.6/dist-packages/pandas/core/series.py:679: RuntimeWarning: divide by zero encountered in log\n",
            "  result = getattr(ufunc, method)(*inputs, **kwargs)\n"
          ],
          "name": "stderr"
        },
        {
          "output_type": "display_data",
          "data": {
            "image/png": "[encoded data removed]",
            "text/plain": [
              "<Figure size 720x720 with 4 Axes>"
            ]
          },
          "metadata": {
            "tags": [],
            "needs_background": "light"
          }
        }
      ]
    },
    {
      "cell_type": "markdown",
      "metadata": {
        "colab_type": "text",
        "id": "r3kyemeFq_6O"
      },
      "source": [
        "Standardise and split the data"
      ]
    },
    {
      "cell_type": "code",
      "metadata": {
        "colab_type": "code",
        "id": "glNcTd6Jq_6R",
        "colab": {}
      },
      "source": [
        "X = data_good_images.loc[:,data_good_images.columns[3:]]\n",
        "y = data_good_images.loc[:, \"Weight\"]"
      ],
      "execution_count": null,
      "outputs": []
    },
    {
      "cell_type": "code",
      "metadata": {
        "colab_type": "code",
        "id": "BvMT68ymq_6c",
        "colab": {}
      },
      "source": [
        "X = scale(X)"
      ],
      "execution_count": null,
      "outputs": []
    },
    {
      "cell_type": "code",
      "metadata": {
        "colab_type": "code",
        "id": "-WJ8cLYqq_6j",
        "colab": {}
      },
      "source": [
        "X_train_good_images, X_test_good_images, y_train_good_images, y_test_good_images = train_test_split(X, y, test_size = 0.2)"
      ],
      "execution_count": null,
      "outputs": []
    },
    {
      "cell_type": "markdown",
      "metadata": {
        "colab_type": "text",
        "id": "Py4OpbbOq_6q"
      },
      "source": [
        "Use **SVR** to estimate weight"
      ]
    },
    {
      "cell_type": "code",
      "metadata": {
        "colab_type": "code",
        "id": "IDe0gIPaq_6r",
        "colab": {}
      },
      "source": [
        "svr_good_images = SVR()\n",
        "\n",
        "svr_fit_good_images = svr_good_images.fit(X_train_good_images, y_train_good_images)\n",
        "\n",
        "svr_predict_good_images = svr_fit_good_images.predict(X_test_good_images)\n",
        "\n",
        "svr_predict_train_good_images = svr_fit_good_images.predict(X_train_good_images)"
      ],
      "execution_count": null,
      "outputs": []
    },
    {
      "cell_type": "markdown",
      "metadata": {
        "colab_type": "text",
        "id": "VFp99upXq_6y"
      },
      "source": [
        "Use **Linear Regression** to estimate weight"
      ]
    },
    {
      "cell_type": "code",
      "metadata": {
        "colab_type": "code",
        "id": "cOWyKKxkq_6z",
        "colab": {}
      },
      "source": [
        "lm_good_images = LinearRegression()\n",
        "\n",
        "lm_fit_good_images = lm_good_images.fit(X_train_good_images, y_train_good_images)\n",
        "\n",
        "lm_predict_good_images = lm_fit_good_images.predict(X_test_good_images)\n",
        "\n",
        "lm_predict_train_good_images = lm_fit_good_images.predict(X_train_good_images)"
      ],
      "execution_count": null,
      "outputs": []
    },
    {
      "cell_type": "markdown",
      "metadata": {
        "id": "udnoKmSVhORK",
        "colab_type": "text"
      },
      "source": [
        "## 3) Evaluation"
      ]
    },
    {
      "cell_type": "markdown",
      "metadata": {
        "id": "TyekdYeGt_Uw",
        "colab_type": "text"
      },
      "source": [
        "### Estimated Body Measures (All Images)"
      ]
    },
    {
      "cell_type": "markdown",
      "metadata": {
        "id": "0-BdS59MqKww",
        "colab_type": "text"
      },
      "source": [
        "SVR"
      ]
    },
    {
      "cell_type": "code",
      "metadata": {
        "id": "SZvi1CUeJj2_",
        "colab_type": "code",
        "colab": {
          "base_uri": "https://localhost:8080/",
          "height": 109
        },
        "outputId": "bab69122-3155-4467-c39b-2cb6c5c69a89"
      },
      "source": [
        "test_error = y_test - svr_predict\n",
        "train_error = y_train - svr_predict_train\n",
        "\n",
        "train_MAE_svr_all_images = mean_absolute_error(y_true = y_train, y_pred = svr_predict_train)\n",
        "train_MAPE_svr_all_images = np.mean(np.abs(train_error)/y_train)*100\n",
        "test_MAE_svr_all_images = mean_absolute_error(y_true = y_test, y_pred = svr_predict)\n",
        "test_MAPE_svr_all_images = np.mean(np.abs(test_error)/y_test)*100\n",
        "\n",
        "print(\"The test MAE is: {:.2f} \\nThe test MAPE is: {:.2f}%\".format(train_MAE_svr_all_images, train_MAPE_svr_all_images))\n",
        "print(\"---------------------------------------------------------\")\n",
        "print(\"The test MAE is: {:.2f} \\nThe test MAPE is: {:.2f}%\".format(test_MAE_svr_all_images, test_MAPE_svr_all_images))"
      ],
      "execution_count": null,
      "outputs": [
        {
          "output_type": "stream",
          "text": [
            "The test MAE is: 34.54 \n",
            "The test MAPE is: 6.61%\n",
            "---------------------------------------------------------\n",
            "The test MAE is: 44.94 \n",
            "The test MAPE is: 8.88%\n"
          ],
          "name": "stdout"
        }
      ]
    },
    {
      "cell_type": "code",
      "metadata": {
        "id": "rgxzH2MKfFgf",
        "colab_type": "code",
        "colab": {
          "base_uri": "https://localhost:8080/",
          "height": 386
        },
        "outputId": "c8db62b4-ec5c-4ab5-8178-8408e1c2d1ca"
      },
      "source": [
        "pipe_svr = make_pipeline(StandardScaler(), SVR())\n",
        "\n",
        "cv = cross_validate(pipe_svr, X_train, y_train, cv = 10, return_train_score= True, return_estimator= True, scoring = \"neg_mean_absolute_error\")\n",
        "\n",
        "fig = plt.figure(figsize=(20, 5))\n",
        "fig.subplots_adjust(hspace=0.4, wspace=0.4)\n",
        "\n",
        "fig.add_subplot(1, 2, 1)\n",
        "plt.bar(height = cv[\"train_score\"]*(-1), x = np.arange(10))\n",
        "plt.xticks(np.arange(10))\n",
        "plt.xlabel(\"Folds\", fontdict={\"fontsize\":12})\n",
        "plt.ylabel(\"MAE\", fontdict={\"fontsize\":12})\n",
        "plt.title(\"In-Sample MAE 10-Fold-CV\", fontdict={\"fontsize\":14})\n",
        "plt.axhline(cv[\"test_score\"].mean()*(-1), c = \"red\", ls = \"--\")\n",
        "plt.ylim([0,100])\n",
        "\n",
        "\n",
        "fig.add_subplot(1, 2, 2)\n",
        "plt.bar(height = cv[\"test_score\"]*(-1), x = np.arange(10))\n",
        "plt.xticks(np.arange(10))\n",
        "plt.xlabel(\"Folds\", fontdict={\"fontsize\":12})\n",
        "plt.ylabel(\"MAE\", fontdict={\"fontsize\":12})\n",
        "plt.title(\"Out-Of-Sample MAE 10-Fold-CV\", fontdict={\"fontsize\":14})\n",
        "plt.axhline(cv[\"test_score\"].mean()*(-1), c = \"red\", ls = \"--\")\n",
        "plt.ylim([0, 100])\n",
        "\n",
        "plt.tight_layout\n",
        "plt.show()\n",
        "\n",
        "\n",
        "\n",
        "mean_MAE_train = cv[\"test_score\"].mean()*(-1)\n",
        "mean_MAE_test = cv[\"test_score\"].mean()*(-1)\n",
        "\n",
        "print(\"The training sample mean MAE for the 10 folds is: {:.2f} \\nThe test sample mean MAE for the 10 folds is: {:.2f}\".format(mean_MAE_train, mean_MAE_test))"
      ],
      "execution_count": null,
      "outputs": [
        {
          "output_type": "display_data",
          "data": {
            "image/png": "[encoded data removed]",
            "text/plain": [
              "<Figure size 1440x360 with 2 Axes>"
            ]
          },
          "metadata": {
            "tags": []
          }
        },
        {
          "output_type": "stream",
          "text": [
            "The training sample mean MAE for the 10 folds is: 34.81 \n",
            "The test sample mean MAE for the 10 folds is: 34.81\n"
          ],
          "name": "stdout"
        }
      ]
    },
    {
      "cell_type": "markdown",
      "metadata": {
        "id": "pH2WEfStqNhK",
        "colab_type": "text"
      },
      "source": [
        "Linear Regression"
      ]
    },
    {
      "cell_type": "code",
      "metadata": {
        "id": "FCumHI7KZ7x7",
        "colab_type": "code",
        "colab": {
          "base_uri": "https://localhost:8080/",
          "height": 109
        },
        "outputId": "0269e95c-d8e3-45a8-b922-cd24f3e74460"
      },
      "source": [
        "train_error = y_train - lm_predict_train\n",
        "train_MAE_lm_all_images = mean_absolute_error(y_true = y_train, y_pred = lm_predict_train)\n",
        "train_MAPE_lm_all_images = np.mean(np.abs(train_error)/y_train)*100\n",
        "\n",
        "test_error = y_test - lm_predict\n",
        "test_MAE_lm_all_images = mean_absolute_error(y_true = y_test, y_pred = lm_predict)\n",
        "test_MAPE_lm_all_images = np.mean(np.abs(test_error)/y_test)*100\n",
        "\n",
        "print(\"The test MAE is: {:.2f} \\nThe test MAPE is: {:.2f}%\".format(train_MAE_lm_all_images, train_MAPE_lm_all_images))\n",
        "print(\"---------------------------------------------------------\")\n",
        "print(\"The test MAE is: {:.2f} \\nThe test MAPE is: {:.2f}%\".format(test_MAE_lm_all_images, test_MAPE_lm_all_images))"
      ],
      "execution_count": null,
      "outputs": [
        {
          "output_type": "stream",
          "text": [
            "The test MAE is: 32.15 \n",
            "The test MAPE is: 6.03%\n",
            "---------------------------------------------------------\n",
            "The test MAE is: 87.27 \n",
            "The test MAPE is: 16.31%\n"
          ],
          "name": "stdout"
        }
      ]
    },
    {
      "cell_type": "code",
      "metadata": {
        "id": "nRR6pIYWrKhf",
        "colab_type": "code",
        "colab": {
          "base_uri": "https://localhost:8080/",
          "height": 386
        },
        "outputId": "e247470b-d534-49e8-c1cf-ffae3f38da40"
      },
      "source": [
        "pipe_lm = make_pipeline(StandardScaler(), lm)\n",
        "\n",
        "cv_lm = cross_validate(pipe_lm, X_train, y_train, cv = 10, return_train_score= True, return_estimator= True, scoring = \"neg_mean_absolute_error\")\n",
        "\n",
        "fig = plt.figure(figsize=(20, 5))\n",
        "fig.subplots_adjust(hspace=0.4, wspace=0.4)\n",
        "\n",
        "fig.add_subplot(1, 2, 1)\n",
        "plt.bar(height = cv_lm[\"train_score\"]*(-1), x = np.arange(10))\n",
        "plt.xticks(np.arange(10))\n",
        "plt.xlabel(\"Folds\", fontdict={\"fontsize\":12})\n",
        "plt.ylabel(\"MAE\", fontdict={\"fontsize\":12})\n",
        "plt.title(\"In-Sample MAE 10-Fold-CV\", fontdict={\"fontsize\":14})\n",
        "plt.axhline(cv_lm[\"test_score\"].mean()*(-1), c = \"red\", ls = \"--\")\n",
        "plt.ylim([0,100])\n",
        "\n",
        "\n",
        "fig.add_subplot(1, 2, 2)\n",
        "plt.bar(height = cv_lm[\"test_score\"]*(-1), x = np.arange(10))\n",
        "plt.xticks(np.arange(10))\n",
        "plt.xlabel(\"Folds\", fontdict={\"fontsize\":12})\n",
        "plt.ylabel(\"MAE\", fontdict={\"fontsize\":12})\n",
        "plt.title(\"Out-Of-Sample MAE 10-Fold-CV\", fontdict={\"fontsize\":14})\n",
        "plt.axhline(cv_lm[\"test_score\"].mean()*(-1), c = \"red\", ls = \"--\")\n",
        "plt.ylim([0, 100])\n",
        "\n",
        "plt.tight_layout\n",
        "plt.show()\n",
        "\n",
        "\n",
        "mean_MAE_train = cv_lm[\"test_score\"].mean()*(-1)\n",
        "mean_MAE_test = cv_lm[\"test_score\"].mean()*(-1)\n",
        "\n",
        "print(\"The training sample mean MAE for the 10 folds is: {:.2f} \\nThe test sample mean MAE for the 10 folds is: {:.2f}\".format(mean_MAE_train, mean_MAE_test))"
      ],
      "execution_count": null,
      "outputs": [
        {
          "output_type": "display_data",
          "data": {
            "image/png": "[encoded data removed]",
            "text/plain": [
              "<Figure size 1440x360 with 2 Axes>"
            ]
          },
          "metadata": {
            "tags": []
          }
        },
        {
          "output_type": "stream",
          "text": [
            "The training sample mean MAE for the 10 folds is: 56.93 \n",
            "The test sample mean MAE for the 10 folds is: 56.93\n"
          ],
          "name": "stdout"
        }
      ]
    },
    {
      "cell_type": "markdown",
      "metadata": {
        "id": "hfDqRmIypAsg",
        "colab_type": "text"
      },
      "source": [
        "### Annotated Body Measures\n"
      ]
    },
    {
      "cell_type": "markdown",
      "metadata": {
        "id": "ND4LCO61pZG4",
        "colab_type": "text"
      },
      "source": [
        "SVR"
      ]
    },
    {
      "cell_type": "code",
      "metadata": {
        "id": "INZrBwNupZQa",
        "colab_type": "code",
        "colab": {
          "base_uri": "https://localhost:8080/",
          "height": 109
        },
        "outputId": "6246b4f5-6a7b-4ff1-b37d-c1afaf1bdded"
      },
      "source": [
        "train_error = y_train_annotated - svr_annotated_predict_train\n",
        "train_MAE_svr_annotated = mean_absolute_error(y_true = y_train_annotated, y_pred = svr_annotated_predict_train)\n",
        "train_MAPE_svr_annotated = np.mean(np.abs(train_error)/y_train_annotated)*100\n",
        "\n",
        "test_error = y_test_annotated - svr_annotated_predict\n",
        "test_MAE_svr_annotated = mean_absolute_error(y_true = y_test_annotated, y_pred = svr_annotated_predict)\n",
        "test_MAPE_svr_annotated = np.mean(np.abs(test_error)/y_test_annotated)*100\n",
        "\n",
        "print(\"The test MAE is: {:.2f} \\nThe test MAPE is: {:.2f}%\".format(train_MAE_svr_annotated, train_MAPE_svr_annotated))\n",
        "print(\"---------------------------------------------------------\")\n",
        "print(\"The test MAE is: {:.2f} \\nThe test MAPE is: {:.2f}%\".format(test_MAE_svr_annotated, test_MAPE_svr_annotated))"
      ],
      "execution_count": null,
      "outputs": [
        {
          "output_type": "stream",
          "text": [
            "The test MAE is: 35.66 \n",
            "The test MAPE is: 6.81%\n",
            "---------------------------------------------------------\n",
            "The test MAE is: 39.88 \n",
            "The test MAPE is: 7.85%\n"
          ],
          "name": "stdout"
        }
      ]
    },
    {
      "cell_type": "code",
      "metadata": {
        "id": "4Ju9Kju-pqDc",
        "colab_type": "code",
        "colab": {
          "base_uri": "https://localhost:8080/",
          "height": 386
        },
        "outputId": "854d6951-2bca-4b40-e87c-79944410d6cb"
      },
      "source": [
        "pipe_svr_annotated = make_pipeline(StandardScaler(), svr_annotated)\n",
        "\n",
        "cv_svr_annotated = cross_validate(pipe_svr_annotated, X_train, y_train, cv = 10, return_train_score= True, return_estimator= True, scoring = \"neg_mean_absolute_error\")\n",
        "\n",
        "fig = plt.figure(figsize=(20, 5))\n",
        "fig.subplots_adjust(hspace=0.4, wspace=0.4)\n",
        "\n",
        "fig.add_subplot(1, 2, 1)\n",
        "plt.bar(height = cv_svr_annotated[\"train_score\"]*(-1), x = np.arange(10))\n",
        "plt.xticks(np.arange(10))\n",
        "plt.xlabel(\"Folds\", fontdict={\"fontsize\":12})\n",
        "plt.ylabel(\"MAE\", fontdict={\"fontsize\":12})\n",
        "plt.title(\"In-Sample MAE 10-Fold-CV\", fontdict={\"fontsize\":14})\n",
        "plt.axhline(cv_svr_annotated[\"train_score\"].mean()*(-1), c = \"red\", ls = \"--\")\n",
        "plt.ylim([0,100])\n",
        "\n",
        "\n",
        "fig.add_subplot(1, 2, 2)\n",
        "plt.bar(height = cv_svr_annotated[\"test_score\"]*(-1), x = np.arange(10))\n",
        "plt.xticks(np.arange(10))\n",
        "plt.xlabel(\"Folds\", fontdict={\"fontsize\":12})\n",
        "plt.ylabel(\"MAE\", fontdict={\"fontsize\":12})\n",
        "plt.title(\"Out-Of-Sample MAE 10-Fold-CV\", fontdict={\"fontsize\":14})\n",
        "plt.axhline(cv_svr_annotated[\"test_score\"].mean()*(-1), c = \"red\", ls = \"--\")\n",
        "plt.ylim([0, 100])\n",
        "\n",
        "plt.tight_layout\n",
        "plt.show()\n",
        "\n",
        "\n",
        "mean_MAE_train = cv_svr_annotated[\"train_score\"].mean()*(-1)\n",
        "mean_MAE_test = cv_svr_annotated[\"test_score\"].mean()*(-1)\n",
        "\n",
        "print(\"The training sample mean MAE for the 10 folds is: {:.2f} \\nThe test sample mean MAE for the 10 folds is: {:.2f}\".format(mean_MAE_train, mean_MAE_test))"
      ],
      "execution_count": null,
      "outputs": [
        {
          "output_type": "display_data",
          "data": {
            "image/png": "[encoded data removed]",
            "text/plain": [
              "<Figure size 1440x360 with 2 Axes>"
            ]
          },
          "metadata": {
            "tags": []
          }
        },
        {
          "output_type": "stream",
          "text": [
            "The training sample mean MAE for the 10 folds is: 34.48 \n",
            "The test sample mean MAE for the 10 folds is: 34.81\n"
          ],
          "name": "stdout"
        }
      ]
    },
    {
      "cell_type": "markdown",
      "metadata": {
        "id": "kv6pCV0ppXd9",
        "colab_type": "text"
      },
      "source": [
        "Linear Regression"
      ]
    },
    {
      "cell_type": "code",
      "metadata": {
        "id": "Tscn-h-ipCPI",
        "colab_type": "code",
        "colab": {
          "base_uri": "https://localhost:8080/",
          "height": 109
        },
        "outputId": "8bd8c675-039a-49c5-de40-fa3a3e3a0c56"
      },
      "source": [
        "train_error = y_train_annotated - lm_annotated_predict_train\n",
        "train_MAE_lm_annotated = mean_absolute_error(y_true = y_train_annotated, y_pred = lm_annotated_predict_train)\n",
        "train_MAPE_lm_annotated = np.mean(np.abs(train_error)/lm_annotated_predict_train)*100\n",
        "\n",
        "test_error = y_test_annotated - lm_annotated_predict\n",
        "test_MAE_lm_annotated = mean_absolute_error(y_true = y_test_annotated, y_pred = lm_annotated_predict)\n",
        "test_MAPE_lm_annotated = np.mean(np.abs(test_error)/y_test_annotated)*100\n",
        "\n",
        "print(\"The test MAE is: {:.2f} \\nThe test MAPE is: {:.2f}%\".format(train_MAE_lm_annotated, train_MAPE_lm_annotated))\n",
        "print(\"---------------------------------------------------------\")\n",
        "print(\"The test MAE is: {:.2f} \\nThe test MAPE is: {:.2f}%\".format(test_MAE_lm_annotated, test_MAPE_lm_annotated))"
      ],
      "execution_count": null,
      "outputs": [
        {
          "output_type": "stream",
          "text": [
            "The test MAE is: 32.22 \n",
            "The test MAPE is: 5.81%\n",
            "---------------------------------------------------------\n",
            "The test MAE is: 52.80 \n",
            "The test MAPE is: 9.99%\n"
          ],
          "name": "stdout"
        }
      ]
    },
    {
      "cell_type": "code",
      "metadata": {
        "id": "-onlb3UtqNW2",
        "colab_type": "code",
        "colab": {
          "base_uri": "https://localhost:8080/",
          "height": 386
        },
        "outputId": "2515f22b-abe2-4410-8080-67d6017e69df"
      },
      "source": [
        "pipe_lm_annotated = make_pipeline(StandardScaler(), lm_annotated)\n",
        "\n",
        "cv_lm_annotated = cross_validate(pipe_lm_annotated, X_train, y_train, cv = 10, return_train_score= True, return_estimator= True, scoring = \"neg_mean_absolute_error\")\n",
        "\n",
        "fig = plt.figure(figsize=(20, 5))\n",
        "fig.subplots_adjust(hspace=0.4, wspace=0.4)\n",
        "\n",
        "fig.add_subplot(1, 2, 1)\n",
        "plt.bar(height = cv_lm_annotated[\"train_score\"]*(-1), x = np.arange(10))\n",
        "plt.xticks(np.arange(10))\n",
        "plt.xlabel(\"Folds\", fontdict={\"fontsize\":12})\n",
        "plt.ylabel(\"MAE\", fontdict={\"fontsize\":12})\n",
        "plt.title(\"In-Sample MAE 10-Fold-CV\", fontdict={\"fontsize\":14})\n",
        "plt.axhline(cv_lm_annotated[\"train_score\"].mean()*(-1), c = \"red\", ls = \"--\")\n",
        "plt.ylim([0,110])\n",
        "\n",
        "\n",
        "fig.add_subplot(1, 2, 2)\n",
        "plt.bar(height = cv_lm_annotated[\"test_score\"]*(-1), x = np.arange(10))\n",
        "plt.xticks(np.arange(10))\n",
        "plt.xlabel(\"Folds\", fontdict={\"fontsize\":12})\n",
        "plt.ylabel(\"MAE\", fontdict={\"fontsize\":12})\n",
        "plt.title(\"Out-Of-Sample MAE 10-Fold-CV\", fontdict={\"fontsize\":14})\n",
        "plt.axhline(cv_lm_annotated[\"test_score\"].mean()*(-1), c = \"red\", ls = \"--\")\n",
        "plt.ylim([0,110])\n",
        "plt.tight_layout\n",
        "plt.show()\n",
        "\n",
        "\n",
        "mean_MAE_train = cv_lm_annotated[\"train_score\"].mean()*(-1)\n",
        "mean_MAE_test = cv_lm_annotated[\"test_score\"].mean()*(-1)\n",
        "\n",
        "print(\"The training sample mean MAE for the 10 folds is: {:.2f} \\nThe test sample mean MAE for the 10 folds is: {:.2f}\".format(mean_MAE_train, mean_MAE_test))"
      ],
      "execution_count": null,
      "outputs": [
        {
          "output_type": "display_data",
          "data": {
            "image/png": "[encoded data removed]",
            "text/plain": [
              "<Figure size 1440x360 with 2 Axes>"
            ]
          },
          "metadata": {
            "tags": []
          }
        },
        {
          "output_type": "stream",
          "text": [
            "The training sample mean MAE for the 10 folds is: 31.96 \n",
            "The test sample mean MAE for the 10 folds is: 56.93\n"
          ],
          "name": "stdout"
        }
      ]
    },
    {
      "cell_type": "markdown",
      "metadata": {
        "id": "GznL8XQYrvDo",
        "colab_type": "text"
      },
      "source": [
        "### Estimated Body Measures (Good Images Only)"
      ]
    },
    {
      "cell_type": "markdown",
      "metadata": {
        "colab_type": "text",
        "id": "ABWp_nFUr3A6"
      },
      "source": [
        "SVR"
      ]
    },
    {
      "cell_type": "code",
      "metadata": {
        "colab_type": "code",
        "id": "6yg09T0Sr3A-",
        "colab": {
          "base_uri": "https://localhost:8080/"
        },
        "outputId": "f2c963a7-566b-40cb-f225-9cfff50fcd55"
      },
      "source": [
        "train_error = y_train_good_images - svr_predict_train_good_images\n",
        "train_MAE_svr_good_images =  mean_absolute_error(y_true = y_train_good_images, y_pred = svr_predict_train_good_images)\n",
        "train_MAPE_svr_good_images = np.mean(np.abs(train_error)/y_train_good_images)*100\n",
        "\n",
        "test_error = y_test_good_images - svr_predict_good_images\n",
        "test_MAE_svr_good_images = mean_absolute_error(y_true = y_test_good_images, y_pred = svr_predict_good_images)\n",
        "test_MAPE_svr_good_images = np.mean(np.abs(test_error)/y_test_good_images)*100\n",
        "\n",
        "print(\"The test MAE is: {:.2f} \\nThe test MAPE is: {:.2f}%\".format(train_MAE_svr_good_images, train_MAPE_svr_good_images))\n",
        "print(\"---------------------------------------------------------\")\n",
        "print(\"The test MAE is: {:.2f} \\nThe test MAPE is: {:.2f}%\".format(test_MAE_svr_good_images, test_MAPE_svr_good_images))"
      ],
      "execution_count": null,
      "outputs": [
        {
          "output_type": "stream",
          "text": [
            "The test MAE is: 31.45 \n",
            "The test MAPE is: 6.15%\n",
            "---------------------------------------------------------\n",
            "The test MAE is: 71.87 \n",
            "The test MAPE is: 13.80%\n"
          ],
          "name": "stdout"
        }
      ]
    },
    {
      "cell_type": "code",
      "metadata": {
        "colab_type": "code",
        "id": "P8pxri3Wr3BM",
        "colab": {
          "base_uri": "https://localhost:8080/"
        },
        "outputId": "baf80a35-b74b-4403-ac22-ea496a3e1c86"
      },
      "source": [
        "pipe_svr_good_images = make_pipeline(StandardScaler(), svr_good_images)\n",
        "\n",
        "cv_svr_good_images = cross_validate(pipe_svr_good_images, X_train_good_images, y_train_good_images, cv = 10, return_train_score= True, return_estimator= True, scoring = \"neg_mean_absolute_error\")\n",
        "\n",
        "fig = plt.figure(figsize=(20, 5))\n",
        "fig.subplots_adjust(hspace=0.4, wspace=0.4)\n",
        "\n",
        "fig.add_subplot(1, 2, 1)\n",
        "plt.bar(height = cv_svr_good_images[\"train_score\"]*(-1), x = np.arange(10))\n",
        "plt.xticks(np.arange(10))\n",
        "plt.xlabel(\"Folds\", fontdict={\"fontsize\":12})\n",
        "plt.ylabel(\"MAE\", fontdict={\"fontsize\":12})\n",
        "plt.title(\"In-Sample MAE 10-Fold-CV\", fontdict={\"fontsize\":14})\n",
        "plt.axhline(cv_svr_good_images[\"train_score\"].mean()*(-1), c = \"red\", ls = \"--\")\n",
        "plt.ylim([0,100])\n",
        "\n",
        "\n",
        "fig.add_subplot(1, 2, 2)\n",
        "plt.bar(height = cv_svr_good_images[\"test_score\"]*(-1), x = np.arange(10))\n",
        "plt.xticks(np.arange(10))\n",
        "plt.xlabel(\"Folds\", fontdict={\"fontsize\":12})\n",
        "plt.ylabel(\"MAE\", fontdict={\"fontsize\":12})\n",
        "plt.title(\"Out-Of-Sample MAE 10-Fold-CV\", fontdict={\"fontsize\":14})\n",
        "plt.axhline(cv_svr_good_images[\"test_score\"].mean()*(-1), c = \"red\", ls = \"--\")\n",
        "plt.ylim([0, 100])\n",
        "\n",
        "plt.tight_layout\n",
        "plt.show()\n",
        "\n",
        "\n",
        "mean_MAE_train = cv_svr_good_images[\"train_score\"].mean()*(-1)\n",
        "mean_MAE_test = cv_svr_good_images[\"test_score\"].mean()*(-1)\n",
        "\n",
        "print(\"The training sample mean MAE for the 10 folds is: {:.2f} \\nThe test sample mean MAE for the 10 folds is: {:.2f}\".format(mean_MAE_train, mean_MAE_test))"
      ],
      "execution_count": null,
      "outputs": [
        {
          "output_type": "display_data",
          "data": {
            "image/png": "[encoded data removed]",
            "text/plain": [
              "<Figure size 1440x360 with 2 Axes>"
            ]
          },
          "metadata": {
            "tags": [],
            "needs_background": "light"
          }
        },
        {
          "output_type": "stream",
          "text": [
            "The training sample mean MAE for the 10 folds is: 31.16 \n",
            "The test sample mean MAE for the 10 folds is: 35.37\n"
          ],
          "name": "stdout"
        }
      ]
    },
    {
      "cell_type": "markdown",
      "metadata": {
        "colab_type": "text",
        "id": "fsOTiOyir3BY"
      },
      "source": [
        "Linear Regression"
      ]
    },
    {
      "cell_type": "code",
      "metadata": {
        "colab_type": "code",
        "id": "Rimf9PTXr3Ba",
        "colab": {
          "base_uri": "https://localhost:8080/"
        },
        "outputId": "55e98760-73ae-4f4c-cb09-587d5a6111e3"
      },
      "source": [
        "test_error = y_test_good_images - lm_predict_good_images\n",
        "train_MAE_lm_good_images =  mean_absolute_error(y_true = y_train_good_images, y_pred = lm_predict_train_good_images)\n",
        "train_MAPE_lm_good_images = np.mean(np.abs(train_error)/lm_predict_train_good_images)*100\n",
        "\n",
        "train_error = y_train_good_images - lm_predict_train_good_images\n",
        "test_MAE_lm_good_images = mean_absolute_error(y_true = y_test_good_images, y_pred = lm_predict_good_images)\n",
        "test_MAPE_lm_good_images = np.mean(np.abs(test_error)/y_test_good_images)*100\n",
        "\n",
        "print(\"The test MAE is: {:.2f} \\nThe test MAPE is: {:.2f}%\".format(train_MAE_lm_good_images, train_MAPE_lm_good_images))\n",
        "print(\"---------------------------------------------------------\")\n",
        "print(\"The test MAE is: {:.2f} \\nThe test MAPE is: {:.2f}%\".format(test_MAE_lm_good_images, test_MAPE_lm_good_images))"
      ],
      "execution_count": null,
      "outputs": [
        {
          "output_type": "stream",
          "text": [
            "The test MAE is: 28.92 \n",
            "The test MAPE is: 5.88%\n",
            "---------------------------------------------------------\n",
            "The test MAE is: 76.35 \n",
            "The test MAPE is: 15.00%\n"
          ],
          "name": "stdout"
        }
      ]
    },
    {
      "cell_type": "code",
      "metadata": {
        "colab_type": "code",
        "id": "uoGyPFSYr3Bg",
        "colab": {
          "base_uri": "https://localhost:8080/"
        },
        "outputId": "1828fbef-998d-4bfa-8a5a-7fad19f87dcf"
      },
      "source": [
        "pipe_lm_good_images = make_pipeline(StandardScaler(), lm_good_images)\n",
        "\n",
        "cv_lm_good_images = cross_validate(pipe_lm_good_images, X_train_good_images, y_train_good_images, cv = 10, return_train_score= True, return_estimator= True, scoring = \"neg_mean_absolute_error\")\n",
        "\n",
        "fig = plt.figure(figsize=(20, 5))\n",
        "fig.subplots_adjust(hspace=0.4, wspace=0.4)\n",
        "\n",
        "fig.add_subplot(1, 2, 1)\n",
        "plt.bar(height = cv_lm_good_images[\"train_score\"]*(-1), x = np.arange(10))\n",
        "plt.xticks(np.arange(10))\n",
        "plt.xlabel(\"Folds\", fontdict={\"fontsize\":12})\n",
        "plt.ylabel(\"MAE\", fontdict={\"fontsize\":12})\n",
        "plt.title(\"In-Sample MAE 10-Fold-CV\", fontdict={\"fontsize\":14})\n",
        "plt.axhline(cv_lm_good_images[\"train_score\"].mean()*(-1), c = \"red\", ls = \"--\")\n",
        "plt.ylim([0,110])\n",
        "\n",
        "\n",
        "fig.add_subplot(1, 2, 2)\n",
        "plt.bar(height = cv_lm_good_images[\"test_score\"]*(-1), x = np.arange(10))\n",
        "plt.xticks(np.arange(10))\n",
        "plt.xlabel(\"Folds\", fontdict={\"fontsize\":12})\n",
        "plt.ylabel(\"MAE\", fontdict={\"fontsize\":12})\n",
        "plt.title(\"Out-Of-Sample MAE 10-Fold-CV\", fontdict={\"fontsize\":14})\n",
        "plt.axhline(cv_lm_good_images[\"test_score\"].mean()*(-1), c = \"red\", ls = \"--\")\n",
        "plt.ylim([0,110])\n",
        "plt.tight_layout\n",
        "plt.show()\n",
        "\n",
        "\n",
        "mean_MAE_train = cv_lm_good_images[\"train_score\"].mean()*(-1)\n",
        "mean_MAE_test = cv_lm_good_images[\"test_score\"].mean()*(-1)\n",
        "\n",
        "print(\"The training sample mean MAE for the 10 folds is: {:.2f} \\nThe test sample mean MAE for the 10 folds is: {:.2f}\".format(mean_MAE_train, mean_MAE_test))"
      ],
      "execution_count": null,
      "outputs": [
        {
          "output_type": "display_data",
          "data": {
            "image/png": "[encoded data removed]",
            "text/plain": [
              "<Figure size 1440x360 with 2 Axes>"
            ]
          },
          "metadata": {
            "tags": [],
            "needs_background": "light"
          }
        },
        {
          "output_type": "stream",
          "text": [
            "The training sample mean MAE for the 10 folds is: 27.99 \n",
            "The test sample mean MAE for the 10 folds is: 51.53\n"
          ],
          "name": "stdout"
        }
      ]
    },
    {
      "cell_type": "markdown",
      "metadata": {
        "id": "9sNEkJodGtXL",
        "colab_type": "text"
      },
      "source": [
        "### Save Results"
      ]
    },
    {
      "cell_type": "code",
      "metadata": {
        "id": "3EdAbzS3MGYL",
        "colab_type": "code",
        "colab": {}
      },
      "source": [
        "path = \"/content/drive/My Drive/Master/Thesis/Carcass Weight Results\""
      ],
      "execution_count": null,
      "outputs": []
    },
    {
      "cell_type": "code",
      "metadata": {
        "id": "Bdfs6uRdJ-BL",
        "colab_type": "code",
        "colab": {}
      },
      "source": [
        "def results_to_dataframe(data):\n",
        "\n",
        "  result = pd.DataFrame(data,\n",
        "                        columns = [\"MAE\", \"MAPE\"],\n",
        "                        index = index)\n",
        "    \n",
        "  return result"
      ],
      "execution_count": null,
      "outputs": []
    },
    {
      "cell_type": "code",
      "metadata": {
        "id": "EBHqeNOfGsvs",
        "colab_type": "code",
        "colab": {}
      },
      "source": [
        "all_images_results = np.array([train_MAE_svr_all_images, train_MAPE_svr_all_images, test_MAE_svr_all_images, test_MAPE_svr_all_images,\n",
        "                               train_MAE_lm_all_images, train_MAPE_lm_all_images, test_MAE_lm_all_images, test_MAPE_lm_all_images]).reshape((4,2)).round(4)\n",
        "\n",
        "annotation_results = np.array([train_MAE_svr_annotated, train_MAPE_svr_annotated, test_MAE_svr_annotated, test_MAPE_svr_annotated,\n",
        "                               train_MAE_lm_annotated, train_MAPE_lm_annotated, test_MAE_lm_annotated, test_MAPE_lm_annotated]).reshape(4,2).round(4)"
      ],
      "execution_count": null,
      "outputs": []
    },
    {
      "cell_type": "code",
      "metadata": {
        "id": "si3u-MKPL1pL",
        "colab_type": "code",
        "colab": {}
      },
      "source": [
        "good_images_results = np.array([train_MAE_svr_good_images, train_MAPE_svr_good_images, test_MAE_svr_good_images, test_MAPE_svr_good_images,\n",
        "                               train_MAE_lm_good_images, train_MAPE_lm_good_images, test_MAE_lm_good_images, test_MAPE_lm_good_images]).reshape((4,2))"
      ],
      "execution_count": null,
      "outputs": []
    },
    {
      "cell_type": "code",
      "metadata": {
        "id": "dURngXpwI2u8",
        "colab_type": "code",
        "colab": {}
      },
      "source": [
        "index = [\"Train - SVR\", \"Test - SVR\", \"Train - LM\", \"Test - LM\"]"
      ],
      "execution_count": null,
      "outputs": []
    },
    {
      "cell_type": "code",
      "metadata": {
        "id": "orwUsOcVH3rL",
        "colab_type": "code",
        "colab": {
          "base_uri": "https://localhost:8080/",
          "height": 256
        },
        "outputId": "e2de2453-3fa1-4c35-ee86-0b4452a9c8bc"
      },
      "source": [
        "results = []\n",
        "\n",
        "results.append(results_to_dataframe(all_images_results))\n",
        "results.append(results_to_dataframe(annotation_results))\n",
        "\n",
        "all_images_results = results_to_dataframe(all_images_results)\n",
        "annotation_results = results_to_dataframe(annotation_results)\n",
        "\n",
        "all_images_results.to_csv(os.path.join(path, \"All_Images.csv\"))\n",
        "annotation_results.to_csv(os.path.join(path, \"Annotation.csv\"))\n",
        "\n",
        "print(\"These are the results for all images: \\n{}\".format(results[0]))\n",
        "print(\"\\nThese are the results for the annotated keypoints: \\n{}\".format(results[1]))"
      ],
      "execution_count": null,
      "outputs": [
        {
          "output_type": "stream",
          "text": [
            "These are the results for all images: \n",
            "                 MAE     MAPE\n",
            "Train - SVR  34.5377   6.6100\n",
            "Test - SVR   44.9445   8.8842\n",
            "Train - LM   32.1514   6.0265\n",
            "Test - LM    87.2744  16.3136\n",
            "\n",
            "These are the results for the annotated keypoints: \n",
            "                 MAE    MAPE\n",
            "Train - SVR  35.6584  6.8094\n",
            "Test - SVR   39.8844  7.8506\n",
            "Train - LM   32.2211  5.8103\n",
            "Test - LM    52.8021  9.9915\n"
          ],
          "name": "stdout"
        }
      ]
    },
    {
      "cell_type": "code",
      "metadata": {
        "id": "3EYeNUehJa3k",
        "colab_type": "code",
        "colab": {}
      },
      "source": [
        "good_images_results = results_to_dataframe(good_images_results)\n",
        "good_images_results.to_csv(os.path.join(path, \"Good_Images.csv\"))"
      ],
      "execution_count": null,
      "outputs": []
    },
    {
      "cell_type": "markdown",
      "metadata": {
        "id": "yjZc2a98Nc05",
        "colab_type": "text"
      },
      "source": [
        "Plot The Results"
      ]
    },
    {
      "cell_type": "code",
      "metadata": {
        "id": "83NXtBaZN4p8",
        "colab_type": "code",
        "colab": {
          "base_uri": "https://localhost:8080/",
          "height": 369
        },
        "outputId": "d164bb5d-242e-4a20-a959-5adf354b6084"
      },
      "source": [
        "MAE_all_images = pd.DataFrame(results_to_dataframe(all_images_results).values[:,0].reshape((2,2)), index = [\"SVR\", \"LM\"], columns = [\"Train\", \"Test\"])\n",
        "MAPE_all_images = pd.DataFrame(results_to_dataframe(all_images_results).values[:,1].reshape((2,2)), index = [\"SVR\", \"LM\"], columns = [\"Train\", \"Test\"])\n",
        "\n",
        "\n",
        "fig, axes = plt.subplots(nrows=1, ncols=2, figsize = [9,5])\n",
        "MAE_all_images.plot(ax=axes[0], kind = \"bar\", title = \"MAE\", rot = 0, fontsize = 12)\n",
        "\n",
        "MAPE_all_images.plot(ax=axes[1], kind = \"bar\", title = \"MAPE\", rot = 0, fontsize = 12)\n",
        "\n",
        "\n",
        "plt.tight_layout()\n",
        "plt.show()\n"
      ],
      "execution_count": null,
      "outputs": [
        {
          "output_type": "display_data",
          "data": {
            "image/png": "[encoded data removed]",
            "text/plain": [
              "<Figure size 648x360 with 2 Axes>"
            ]
          },
          "metadata": {
            "tags": []
          }
        }
      ]
    },
    {
      "cell_type": "code",
      "metadata": {
        "id": "wdXCEKu_dTrm",
        "colab_type": "code",
        "colab": {
          "base_uri": "https://localhost:8080/",
          "height": 369
        },
        "outputId": "d3cdb3f9-687a-4f7b-d016-3be705ebfbf2"
      },
      "source": [
        "MAE_all_images = pd.DataFrame(results_to_dataframe(annotation_results).values[:,0].reshape((2,2)), index = [\"SVR\", \"LM\"], columns = [\"Train\", \"Test\"])\n",
        "MAPE_all_images = pd.DataFrame(results_to_dataframe(annotation_results).values[:,1].reshape((2,2)), index = [\"SVR\", \"LM\"], columns = [\"Train\", \"Test\"])\n",
        "\n",
        "\n",
        "fig, axes = plt.subplots(nrows=1, ncols=2, figsize = [9,5])\n",
        "MAE_all_images.plot(ax=axes[0], kind = \"bar\", title = \"MAE\", rot = 0, fontsize = 12)\n",
        "\n",
        "MAPE_all_images.plot(ax=axes[1], kind = \"bar\", title = \"MAPE\", rot = 0, fontsize = 12)\n",
        "\n",
        "\n",
        "plt.tight_layout()\n",
        "plt.show()"
      ],
      "execution_count": null,
      "outputs": [
        {
          "output_type": "display_data",
          "data": {
            "image/png": "[encoded data removed]",
            "text/plain": [
              "<Figure size 648x360 with 2 Axes>"
            ]
          },
          "metadata": {
            "tags": []
          }
        }
      ]
    },
    {
      "cell_type": "code",
      "metadata": {
        "id": "iM8pWfrolVqO",
        "colab_type": "code",
        "colab": {
          "base_uri": "https://localhost:8080/",
          "height": 369
        },
        "outputId": "752007e8-8c41-4ef4-fce5-f958a9437d38"
      },
      "source": [
        "MAE_all_images = pd.DataFrame(results_to_dataframe(good_images_results).values[:,0].reshape((2,2)), index = [\"SVR\", \"LM\"], columns = [\"Train\", \"Test\"])\n",
        "MAPE_all_images = pd.DataFrame(results_to_dataframe(good_images_results).values[:,1].reshape((2,2)), index = [\"SVR\", \"LM\"], columns = [\"Train\", \"Test\"])\n",
        "\n",
        "\n",
        "fig, axes = plt.subplots(nrows=1, ncols=2, figsize = [9,5])\n",
        "MAE_all_images.plot(ax=axes[0], kind = \"bar\", title = \"MAE\", rot = 0, fontsize = 12)\n",
        "\n",
        "MAPE_all_images.plot(ax=axes[1], kind = \"bar\", title = \"MAPE\", rot = 0, fontsize = 12)\n",
        "\n",
        "\n",
        "plt.tight_layout()\n",
        "plt.show()"
      ],
      "execution_count": null,
      "outputs": [
        {
          "output_type": "display_data",
          "data": {
            "image/png": "[encoded data removed]",
            "text/plain": [
              "<Figure size 648x360 with 2 Axes>"
            ]
          },
          "metadata": {
            "tags": [],
            "needs_background": "light"
          }
        }
      ]
    },
    {
      "cell_type": "markdown",
      "metadata": {
        "id": "NPufb-fjZReK",
        "colab_type": "text"
      },
      "source": [
        "Body Measures from Estimated Keypoints vs. from Annotated Keypoints"
      ]
    },
    {
      "cell_type": "code",
      "metadata": {
        "id": "EifJGhlmZRAp",
        "colab_type": "code",
        "colab": {}
      },
      "source": [
        "error = np.abs(results_body_measures - results_body_measures_annotated)/results_body_measures_annotated\n",
        "\n",
        "error = error.mean(axis = 0).round(4)\n",
        "\n",
        "error.to_csv(\"/content/drive/My Drive/Master/Thesis/annotated_vs_estimated.csv\")\n"
      ],
      "execution_count": null,
      "outputs": []
    },
    {
      "cell_type": "code",
      "metadata": {
        "id": "-x-XtA-MiCjg",
        "colab_type": "code",
        "colab": {
          "base_uri": "https://localhost:8080/",
          "height": 109
        },
        "outputId": "e2acba1f-b9dd-4db0-d859-7c65bd3b644a"
      },
      "source": [
        "error2 = np.abs(results_body_measures* - results_body_measures_annotated)/results_body_measures_annotated\n",
        "\n",
        "error2.mean(axis = 0).round(4)"
      ],
      "execution_count": null,
      "outputs": [
        {
          "output_type": "execute_result",
          "data": {
            "text/plain": [
              "Body_Length    0.9977\n",
              "Hip_Height     0.9134\n",
              "Hip_Width      0.9280\n",
              "Heart_Girth    0.9142\n",
              "dtype: float64"
            ]
          },
          "metadata": {
            "tags": []
          },
          "execution_count": 213
        }
      ]
    },
    {
      "cell_type": "code",
      "metadata": {
        "id": "hWZsg6jKaFDq",
        "colab_type": "code",
        "colab": {
          "base_uri": "https://localhost:8080/",
          "height": 206
        },
        "outputId": "fce77b95-746e-435c-a788-500305bb244b"
      },
      "source": [
        "results_body_measures.head()\n"
      ],
      "execution_count": null,
      "outputs": [
        {
          "output_type": "execute_result",
          "data": {
            "text/html": [
              "<div>\n",
              "<style scoped>\n",
              "    .dataframe tbody tr th:only-of-type {\n",
              "        vertical-align: middle;\n",
              "    }\n",
              "\n",
              "    .dataframe tbody tr th {\n",
              "        vertical-align: top;\n",
              "    }\n",
              "\n",
              "    .dataframe thead th {\n",
              "        text-align: right;\n",
              "    }\n",
              "</style>\n",
              "<table border=\"1\" class=\"dataframe\">\n",
              "  <thead>\n",
              "    <tr style=\"text-align: right;\">\n",
              "      <th></th>\n",
              "      <th>Body_Length</th>\n",
              "      <th>Hip_Height</th>\n",
              "      <th>Hip_Width</th>\n",
              "      <th>Heart_Girth</th>\n",
              "    </tr>\n",
              "  </thead>\n",
              "  <tbody>\n",
              "    <tr>\n",
              "      <th>585216074-0.jpg</th>\n",
              "      <td>0.000056</td>\n",
              "      <td>0.000291</td>\n",
              "      <td>0.000405</td>\n",
              "      <td>0.000862</td>\n",
              "    </tr>\n",
              "    <tr>\n",
              "      <th>586290717-8.jpg</th>\n",
              "      <td>0.000046</td>\n",
              "      <td>0.000260</td>\n",
              "      <td>0.000362</td>\n",
              "      <td>0.000752</td>\n",
              "    </tr>\n",
              "    <tr>\n",
              "      <th>586290925-7.jpg</th>\n",
              "      <td>0.000112</td>\n",
              "      <td>0.000340</td>\n",
              "      <td>0.000508</td>\n",
              "      <td>0.002040</td>\n",
              "    </tr>\n",
              "    <tr>\n",
              "      <th>589454323-0.jpg</th>\n",
              "      <td>0.000082</td>\n",
              "      <td>0.001139</td>\n",
              "      <td>0.000967</td>\n",
              "      <td>0.001749</td>\n",
              "    </tr>\n",
              "    <tr>\n",
              "      <th>589454978-8.jpg</th>\n",
              "      <td>0.000048</td>\n",
              "      <td>0.000569</td>\n",
              "      <td>0.000505</td>\n",
              "      <td>0.000785</td>\n",
              "    </tr>\n",
              "  </tbody>\n",
              "</table>\n",
              "</div>"
            ],
            "text/plain": [
              "                 Body_Length  Hip_Height  Hip_Width  Heart_Girth\n",
              "585216074-0.jpg     0.000056    0.000291   0.000405     0.000862\n",
              "586290717-8.jpg     0.000046    0.000260   0.000362     0.000752\n",
              "586290925-7.jpg     0.000112    0.000340   0.000508     0.002040\n",
              "589454323-0.jpg     0.000082    0.001139   0.000967     0.001749\n",
              "589454978-8.jpg     0.000048    0.000569   0.000505     0.000785"
            ]
          },
          "metadata": {
            "tags": []
          },
          "execution_count": 188
        }
      ]
    },
    {
      "cell_type": "code",
      "metadata": {
        "id": "TfA7CJbAZkSb",
        "colab_type": "code",
        "colab": {
          "base_uri": "https://localhost:8080/",
          "height": 206
        },
        "outputId": "5def23d0-5230-4fb6-b3db-fdacd3d3a605"
      },
      "source": [
        "results_body_measures_annotated.head()"
      ],
      "execution_count": null,
      "outputs": [
        {
          "output_type": "execute_result",
          "data": {
            "text/html": [
              "<div>\n",
              "<style scoped>\n",
              "    .dataframe tbody tr th:only-of-type {\n",
              "        vertical-align: middle;\n",
              "    }\n",
              "\n",
              "    .dataframe tbody tr th {\n",
              "        vertical-align: top;\n",
              "    }\n",
              "\n",
              "    .dataframe thead th {\n",
              "        text-align: right;\n",
              "    }\n",
              "</style>\n",
              "<table border=\"1\" class=\"dataframe\">\n",
              "  <thead>\n",
              "    <tr style=\"text-align: right;\">\n",
              "      <th></th>\n",
              "      <th>Body_Length</th>\n",
              "      <th>Hip_Height</th>\n",
              "      <th>Hip_Width</th>\n",
              "      <th>Heart_Girth</th>\n",
              "    </tr>\n",
              "  </thead>\n",
              "  <tbody>\n",
              "    <tr>\n",
              "      <th>585216074-0.jpg</th>\n",
              "      <td>0.058128</td>\n",
              "      <td>0.050881</td>\n",
              "      <td>0.083698</td>\n",
              "      <td>0.015838</td>\n",
              "    </tr>\n",
              "    <tr>\n",
              "      <th>586290717-8.jpg</th>\n",
              "      <td>0.042164</td>\n",
              "      <td>0.084113</td>\n",
              "      <td>0.073106</td>\n",
              "      <td>0.009901</td>\n",
              "    </tr>\n",
              "    <tr>\n",
              "      <th>586290925-7.jpg</th>\n",
              "      <td>0.067637</td>\n",
              "      <td>0.055564</td>\n",
              "      <td>0.005718</td>\n",
              "      <td>0.027797</td>\n",
              "    </tr>\n",
              "    <tr>\n",
              "      <th>589454323-0.jpg</th>\n",
              "      <td>0.012839</td>\n",
              "      <td>0.143285</td>\n",
              "      <td>0.017087</td>\n",
              "      <td>0.022151</td>\n",
              "    </tr>\n",
              "    <tr>\n",
              "      <th>589454978-8.jpg</th>\n",
              "      <td>0.022090</td>\n",
              "      <td>0.057575</td>\n",
              "      <td>0.000508</td>\n",
              "      <td>0.018019</td>\n",
              "    </tr>\n",
              "  </tbody>\n",
              "</table>\n",
              "</div>"
            ],
            "text/plain": [
              "                 Body_Length  Hip_Height  Hip_Width  Heart_Girth\n",
              "585216074-0.jpg     0.058128    0.050881   0.083698     0.015838\n",
              "586290717-8.jpg     0.042164    0.084113   0.073106     0.009901\n",
              "586290925-7.jpg     0.067637    0.055564   0.005718     0.027797\n",
              "589454323-0.jpg     0.012839    0.143285   0.017087     0.022151\n",
              "589454978-8.jpg     0.022090    0.057575   0.000508     0.018019"
            ]
          },
          "metadata": {
            "tags": []
          },
          "execution_count": 189
        }
      ]
    }
  ]
}